{
 "cells": [
  {
   "attachments": {
    "flowchart.png": {
     "image/png": "[encoded data removed]"
    }
   },
   "cell_type": "markdown",
   "metadata": {},
   "source": [
    "# Part 1: \n",
    "In your project you have been working with a bias dataset. Most probabely suupervised models were underfit. You should remember that this is a real dataset, and in real life most of the time you dont have access to clean and unbias dataset. In situations like this, none of the regression models will have a good fit for the dataset due to the large predence of the 0s. In the first part of this take-home exam, you are asked to be creative, and find a solution for this problem. \n",
    "\n",
    "For this dataset, you can break the problem, into a two-step machine learning model. \n",
    "\n",
    "First step is to classify the data points as positive revenue and zero revenue. This simply is a binary classification. You should remember that when you are dealing with biased datasets, accuracy is not a reliable scoring metric. So look for a robust scoring function. \n",
    "\n",
    "Next, you need to build a regression model to postprocess classification results. Here is a flow chart to show you the outline of the model. \n",
    "\n",
    "![flowchart.png](attachment:flowchart.png)"
   ]
  },
  {
   "cell_type": "code",
   "execution_count": 10,
   "metadata": {},
   "outputs": [],
   "source": [
    "import pandas as pd\n",
    "import numpy as np\n",
    "import csv\n",
    "import matplotlib.pyplot as plt\n",
    "%matplotlib inline\n",
    "from pandas.plotting import scatter_matrix\n",
    "from sklearn.preprocessing import MinMaxScaler\n",
    "import seaborn as sns; sns.set()\n",
    "from sklearn.model_selection import GridSearchCV\n",
    "from sklearn.model_selection import train_test_split\n",
    "from sklearn.model_selection import cross_val_score\n",
    "import json\n",
    "import ast\n",
    "from pandas.io.json import json_normalize\n",
    "from scipy import stats\n",
    "from datetime import datetime\n",
    "from scipy.stats import kurtosis, skew \n",
    "from sklearn import preprocessing\n",
    "from sklearn.metrics import r2_score\n",
    "from sklearn.metrics import explained_variance_score\n",
    "import warnings\n",
    "warnings.filterwarnings(\"ignore\")\n",
    "from sklearn.linear_model import LinearRegression as lm\n",
    "from sklearn import tree\n",
    "from matplotlib import pyplot as plt\n",
    "from sklearn.neighbors import KNeighborsRegressor\n",
    "from sklearn.cross_validation import cross_val_predict\n",
    "from sklearn import metrics\n",
    "import numpy as np\n",
    "from sklearn.pipeline import make_pipeline\n",
    "import warnings\n",
    "from scipy.stats import mstats\n",
    "from sklearn.ensemble import RandomForestRegressor\n",
    "from sklearn.decomposition import PCA\n",
    "from sklearn.ensemble import GradientBoostingRegressor\n",
    "from sklearn.cluster import KMeans\n",
    "from sklearn import cluster, metrics\n",
    "from sklearn.mixture import GaussianMixture \n",
    "from sklearn import mixture\n",
    "import itertools\n",
    "from scipy import linalg\n",
    "import matplotlib as mpl\n",
    "from sklearn.metrics import mean_squared_error\n",
    "import os\n",
    "import json\n",
    "import datetime\n",
    "import numpy as np\n",
    "import pandas as pd\n",
    "import seaborn as sns\n",
    "import matplotlib.pyplot as plt\n",
    "from pandas.io.json import json_normalize\n",
    "from sklearn.metrics import mean_squared_error\n",
    "from sklearn import preprocessing\n",
    "from sklearn.model_selection import train_test_split\n",
    "from sklearn.metrics.cluster import adjusted_rand_score\n",
    "from sklearn.manifold import Isomap\n",
    "from sklearn.ensemble import GradientBoostingClassifier\n",
    "from sklearn.ensemble import RandomForestClassifier\n",
    "from sklearn.neighbors import KNeighborsClassifier\n",
    "from sklearn.ensemble import VotingClassifier\n",
    "from sklearn.tree import DecisionTreeClassifier\n",
    "from sklearn.metrics import confusion_matrix\n",
    "from sklearn.svm import SVC\n",
    "from sklearn.metrics import roc_auc_score"
   ]
  },
  {
   "cell_type": "code",
   "execution_count": 11,
   "metadata": {},
   "outputs": [],
   "source": [
    "from sklearn.metrics import precision_score"
   ]
  },
  {
   "cell_type": "code",
   "execution_count": 12,
   "metadata": {},
   "outputs": [],
   "source": [
    "from sklearn.metrics import r2_score\n",
    "from sklearn.metrics import explained_variance_score\n",
    "from sklearn.metrics import auc\n",
    "from sklearn.metrics import roc_curve\n",
    "from sklearn.metrics import precision_recall_curve"
   ]
  },
  {
   "cell_type": "code",
   "execution_count": 13,
   "metadata": {},
   "outputs": [],
   "source": [
    "from sklearn.model_selection import GridSearchCV\n",
    "from sklearn.neighbors import KNeighborsClassifier\n",
    "from sklearn.model_selection import train_test_split\n",
    "from sklearn.metrics import confusion_matrix\n",
    "from sklearn.metrics import roc_auc_score\n",
    "from sklearn.linear_model import LogisticRegression\n",
    "from sklearn.metrics import confusion_matrix\n",
    "from sklearn.svm import LinearSVC\n",
    "from sklearn.metrics import accuracy_score\n",
    "from sklearn.tree import DecisionTreeClassifier\n",
    "from sklearn.metrics import confusion_matrix\n",
    "from sklearn.externals.six import StringIO  \n",
    "from IPython.display import Image  \n",
    "from sklearn.tree import export_graphviz\n",
    "import pydotplus\n",
    "from sklearn.svm import SVC\n",
    "from sklearn.model_selection import cross_val_score\n",
    "from sklearn.metrics import precision_recall_curve\n",
    "from sklearn.metrics import f1_score\n",
    "from sklearn.dummy import DummyClassifier\n",
    "from sklearn.metrics import classification_report\n",
    "from sklearn.metrics import roc_curve"
   ]
  },
  {
   "cell_type": "code",
   "execution_count": 14,
   "metadata": {},
   "outputs": [],
   "source": [
    "def convert_to_datetime(frame):\n",
    "    frame['date'] = frame['date'].astype(str)\n",
    "    frame['date'] = frame['date'].apply(lambda x : x[:4] + \"-\" + x[4:6] + \"-\" + x[6:])\n",
    "    frame['date'] = pd.to_datetime(frame['date'])\n",
    "    return frame"
   ]
  },
  {
   "cell_type": "code",
   "execution_count": 15,
   "metadata": {},
   "outputs": [],
   "source": [
    "def read_data(csv_path='data.csv', nrows=None):\n",
    "\n",
    "    JSON_COLUMNS = ['device', 'geoNetwork', 'trafficSource']\n",
    "\n",
    "    df = pd.read_csv(csv_path, \n",
    "                     converters={column: ast.literal_eval for column in JSON_COLUMNS}, \n",
    "                     dtype={'fullVisitorId': 'str'}, \n",
    "                     nrows=nrows)\n",
    "    nan_list = [\"not available in demo dataset\",\n",
    "            \"unknown.unknown\",\n",
    "            \"(not provided)\",\n",
    "            \"(not set)\", \n",
    "            \"Not Socially Engaged\",\" : \"\n",
    "    ] \n",
    "    nan_dict = {nl:np.nan for nl in nan_list}\n",
    "    \n",
    "    device_list=df['device'].tolist()\n",
    "    df.drop('hits',axis=1,inplace=True)\n",
    "    \n",
    "    df['customDimensions']=df['customDimensions'].apply(ast.literal_eval)\n",
    "    df['customDimensions']=df['customDimensions'].str[0]\n",
    "    df['customDimensions']=df['customDimensions'].apply(lambda x: {'index':np.NaN,'value':np.NaN} if pd.isnull(x) else x)\n",
    "    \n",
    "    JSON_COLUMNS = ['device', 'geoNetwork', 'trafficSource','customDimensions']\n",
    "\n",
    "    for column in JSON_COLUMNS:\n",
    "        column_as_df = json_normalize(df[column])\n",
    "        column_as_df.columns = [f\"{column}.{subcolumn}\" for subcolumn in column_as_df.columns]\n",
    "        df = df.drop(column, axis=1).merge(column_as_df, right_index=True, left_index=True)\n",
    "        df.replace(nan_dict, inplace=True) \n",
    "        \n",
    "    convert_to_datetime(df)\n",
    "    df.set_index('date',inplace=True)\n",
    "    return df"
   ]
  },
  {
   "cell_type": "markdown",
   "metadata": {},
   "source": [
    "###### Reading Dataset "
   ]
  },
  {
   "cell_type": "code",
   "execution_count": 16,
   "metadata": {},
   "outputs": [],
   "source": [
    "data=read_data()"
   ]
  },
  {
   "cell_type": "markdown",
   "metadata": {},
   "source": [
    "###### Pre-processing Data"
   ]
  },
  {
   "cell_type": "code",
   "execution_count": 28,
   "metadata": {},
   "outputs": [
    {
     "data": {
      "text/plain": [
       "(20000, 21)"
      ]
     },
     "execution_count": 28,
     "metadata": {},
     "output_type": "execute_result"
    }
   ],
   "source": [
    "data.shape"
   ]
  },
  {
   "cell_type": "code",
   "execution_count": 29,
   "metadata": {},
   "outputs": [
    {
     "name": "stdout",
     "output_type": "stream",
     "text": [
      "<class 'pandas.core.frame.DataFrame'>\n",
      "DatetimeIndex: 20000 entries, 2017-10-16 to 2017-11-10\n",
      "Data columns (total 21 columns):\n",
      "channelGrouping              20000 non-null int64\n",
      "visitNumber                  20000 non-null float64\n",
      "totals_bounces               20000 non-null float64\n",
      "totals_newVisits             20000 non-null float64\n",
      "totals_pageviews             20000 non-null float64\n",
      "totals_transactionRevenue    20000 non-null float64\n",
      "totals_transactions          20000 non-null float64\n",
      "device.browser               20000 non-null int64\n",
      "device.deviceCategory        20000 non-null int64\n",
      "device.operatingSystem       20000 non-null int64\n",
      "geoNetwork.city              20000 non-null int64\n",
      "geoNetwork.continent         20000 non-null int64\n",
      "geoNetwork.country           20000 non-null int64\n",
      "geoNetwork.metro             20000 non-null int64\n",
      "geoNetwork.networkDomain     20000 non-null int64\n",
      "geoNetwork.region            20000 non-null int64\n",
      "geoNetwork.subContinent      20000 non-null int64\n",
      "trafficSource.source         20000 non-null int64\n",
      "customDimensions.index       20000 non-null object\n",
      "customDimensions.value       20000 non-null int64\n",
      "classify_revenue             20000 non-null int32\n",
      "dtypes: float64(6), int32(1), int64(13), object(1)\n",
      "memory usage: 3.3+ MB\n"
     ]
    }
   ],
   "source": [
    "data.info()"
   ]
  },
  {
   "cell_type": "code",
   "execution_count": 30,
   "metadata": {},
   "outputs": [
    {
     "data": {
      "text/html": [
       "<div>\n",
       "<style scoped>\n",
       "    .dataframe tbody tr th:only-of-type {\n",
       "        vertical-align: middle;\n",
       "    }\n",
       "\n",
       "    .dataframe tbody tr th {\n",
       "        vertical-align: top;\n",
       "    }\n",
       "\n",
       "    .dataframe thead th {\n",
       "        text-align: right;\n",
       "    }\n",
       "</style>\n",
       "<table border=\"1\" class=\"dataframe\">\n",
       "  <thead>\n",
       "    <tr style=\"text-align: right;\">\n",
       "      <th></th>\n",
       "      <th>channelGrouping</th>\n",
       "      <th>visitNumber</th>\n",
       "      <th>totals_bounces</th>\n",
       "      <th>totals_newVisits</th>\n",
       "      <th>totals_pageviews</th>\n",
       "      <th>totals_transactionRevenue</th>\n",
       "      <th>totals_transactions</th>\n",
       "      <th>device.browser</th>\n",
       "      <th>device.deviceCategory</th>\n",
       "      <th>device.operatingSystem</th>\n",
       "      <th>...</th>\n",
       "      <th>geoNetwork.continent</th>\n",
       "      <th>geoNetwork.country</th>\n",
       "      <th>geoNetwork.metro</th>\n",
       "      <th>geoNetwork.networkDomain</th>\n",
       "      <th>geoNetwork.region</th>\n",
       "      <th>geoNetwork.subContinent</th>\n",
       "      <th>trafficSource.source</th>\n",
       "      <th>customDimensions.index</th>\n",
       "      <th>customDimensions.value</th>\n",
       "      <th>classify_revenue</th>\n",
       "    </tr>\n",
       "    <tr>\n",
       "      <th>date</th>\n",
       "      <th></th>\n",
       "      <th></th>\n",
       "      <th></th>\n",
       "      <th></th>\n",
       "      <th></th>\n",
       "      <th></th>\n",
       "      <th></th>\n",
       "      <th></th>\n",
       "      <th></th>\n",
       "      <th></th>\n",
       "      <th></th>\n",
       "      <th></th>\n",
       "      <th></th>\n",
       "      <th></th>\n",
       "      <th></th>\n",
       "      <th></th>\n",
       "      <th></th>\n",
       "      <th></th>\n",
       "      <th></th>\n",
       "      <th></th>\n",
       "      <th></th>\n",
       "    </tr>\n",
       "  </thead>\n",
       "  <tbody>\n",
       "    <tr>\n",
       "      <th>2017-10-16</th>\n",
       "      <td>3</td>\n",
       "      <td>1.0</td>\n",
       "      <td>1.0</td>\n",
       "      <td>1.0</td>\n",
       "      <td>1.0</td>\n",
       "      <td>0.0</td>\n",
       "      <td>0.0</td>\n",
       "      <td>8</td>\n",
       "      <td>0</td>\n",
       "      <td>12</td>\n",
       "      <td>...</td>\n",
       "      <td>4</td>\n",
       "      <td>48</td>\n",
       "      <td>0</td>\n",
       "      <td>0</td>\n",
       "      <td>0</td>\n",
       "      <td>21</td>\n",
       "      <td>25</td>\n",
       "      <td>4</td>\n",
       "      <td>3</td>\n",
       "      <td>0</td>\n",
       "    </tr>\n",
       "    <tr>\n",
       "      <th>2017-10-16</th>\n",
       "      <td>5</td>\n",
       "      <td>6.0</td>\n",
       "      <td>0.0</td>\n",
       "      <td>0.0</td>\n",
       "      <td>2.0</td>\n",
       "      <td>0.0</td>\n",
       "      <td>0.0</td>\n",
       "      <td>5</td>\n",
       "      <td>0</td>\n",
       "      <td>3</td>\n",
       "      <td>...</td>\n",
       "      <td>2</td>\n",
       "      <td>147</td>\n",
       "      <td>27</td>\n",
       "      <td>0</td>\n",
       "      <td>18</td>\n",
       "      <td>12</td>\n",
       "      <td>70</td>\n",
       "      <td>4</td>\n",
       "      <td>4</td>\n",
       "      <td>0</td>\n",
       "    </tr>\n",
       "    <tr>\n",
       "      <th>2017-10-16</th>\n",
       "      <td>1</td>\n",
       "      <td>1.0</td>\n",
       "      <td>0.0</td>\n",
       "      <td>1.0</td>\n",
       "      <td>2.0</td>\n",
       "      <td>0.0</td>\n",
       "      <td>0.0</td>\n",
       "      <td>5</td>\n",
       "      <td>1</td>\n",
       "      <td>1</td>\n",
       "      <td>...</td>\n",
       "      <td>2</td>\n",
       "      <td>147</td>\n",
       "      <td>0</td>\n",
       "      <td>2435</td>\n",
       "      <td>0</td>\n",
       "      <td>12</td>\n",
       "      <td>0</td>\n",
       "      <td>4</td>\n",
       "      <td>4</td>\n",
       "      <td>0</td>\n",
       "    </tr>\n",
       "    <tr>\n",
       "      <th>2017-10-16</th>\n",
       "      <td>3</td>\n",
       "      <td>1.0</td>\n",
       "      <td>0.0</td>\n",
       "      <td>1.0</td>\n",
       "      <td>2.0</td>\n",
       "      <td>0.0</td>\n",
       "      <td>0.0</td>\n",
       "      <td>5</td>\n",
       "      <td>0</td>\n",
       "      <td>12</td>\n",
       "      <td>...</td>\n",
       "      <td>3</td>\n",
       "      <td>141</td>\n",
       "      <td>0</td>\n",
       "      <td>0</td>\n",
       "      <td>0</td>\n",
       "      <td>20</td>\n",
       "      <td>25</td>\n",
       "      <td>4</td>\n",
       "      <td>3</td>\n",
       "      <td>0</td>\n",
       "    </tr>\n",
       "    <tr>\n",
       "      <th>2017-10-16</th>\n",
       "      <td>3</td>\n",
       "      <td>1.0</td>\n",
       "      <td>0.0</td>\n",
       "      <td>1.0</td>\n",
       "      <td>2.0</td>\n",
       "      <td>0.0</td>\n",
       "      <td>0.0</td>\n",
       "      <td>5</td>\n",
       "      <td>0</td>\n",
       "      <td>12</td>\n",
       "      <td>...</td>\n",
       "      <td>2</td>\n",
       "      <td>90</td>\n",
       "      <td>0</td>\n",
       "      <td>1647</td>\n",
       "      <td>0</td>\n",
       "      <td>3</td>\n",
       "      <td>25</td>\n",
       "      <td>4</td>\n",
       "      <td>2</td>\n",
       "      <td>0</td>\n",
       "    </tr>\n",
       "  </tbody>\n",
       "</table>\n",
       "<p>5 rows × 21 columns</p>\n",
       "</div>"
      ],
      "text/plain": [
       "            channelGrouping  visitNumber  totals_bounces  totals_newVisits  \\\n",
       "date                                                                         \n",
       "2017-10-16                3          1.0             1.0               1.0   \n",
       "2017-10-16                5          6.0             0.0               0.0   \n",
       "2017-10-16                1          1.0             0.0               1.0   \n",
       "2017-10-16                3          1.0             0.0               1.0   \n",
       "2017-10-16                3          1.0             0.0               1.0   \n",
       "\n",
       "            totals_pageviews  totals_transactionRevenue  totals_transactions  \\\n",
       "date                                                                           \n",
       "2017-10-16               1.0                        0.0                  0.0   \n",
       "2017-10-16               2.0                        0.0                  0.0   \n",
       "2017-10-16               2.0                        0.0                  0.0   \n",
       "2017-10-16               2.0                        0.0                  0.0   \n",
       "2017-10-16               2.0                        0.0                  0.0   \n",
       "\n",
       "            device.browser  device.deviceCategory  device.operatingSystem  \\\n",
       "date                                                                        \n",
       "2017-10-16               8                      0                      12   \n",
       "2017-10-16               5                      0                       3   \n",
       "2017-10-16               5                      1                       1   \n",
       "2017-10-16               5                      0                      12   \n",
       "2017-10-16               5                      0                      12   \n",
       "\n",
       "                  ...         geoNetwork.continent  geoNetwork.country  \\\n",
       "date              ...                                                    \n",
       "2017-10-16        ...                            4                  48   \n",
       "2017-10-16        ...                            2                 147   \n",
       "2017-10-16        ...                            2                 147   \n",
       "2017-10-16        ...                            3                 141   \n",
       "2017-10-16        ...                            2                  90   \n",
       "\n",
       "            geoNetwork.metro  geoNetwork.networkDomain  geoNetwork.region  \\\n",
       "date                                                                        \n",
       "2017-10-16                 0                         0                  0   \n",
       "2017-10-16                27                         0                 18   \n",
       "2017-10-16                 0                      2435                  0   \n",
       "2017-10-16                 0                         0                  0   \n",
       "2017-10-16                 0                      1647                  0   \n",
       "\n",
       "            geoNetwork.subContinent  trafficSource.source  \\\n",
       "date                                                        \n",
       "2017-10-16                       21                    25   \n",
       "2017-10-16                       12                    70   \n",
       "2017-10-16                       12                     0   \n",
       "2017-10-16                       20                    25   \n",
       "2017-10-16                        3                    25   \n",
       "\n",
       "            customDimensions.index customDimensions.value  classify_revenue  \n",
       "date                                                                         \n",
       "2017-10-16                       4                      3                 0  \n",
       "2017-10-16                       4                      4                 0  \n",
       "2017-10-16                       4                      4                 0  \n",
       "2017-10-16                       4                      3                 0  \n",
       "2017-10-16                       4                      2                 0  \n",
       "\n",
       "[5 rows x 21 columns]"
      ]
     },
     "execution_count": 30,
     "metadata": {},
     "output_type": "execute_result"
    }
   ],
   "source": [
    "data.head()"
   ]
  },
  {
   "cell_type": "code",
   "execution_count": 17,
   "metadata": {},
   "outputs": [
    {
     "name": "stdout",
     "output_type": "stream",
     "text": [
      "Data shape before dropping constant columns: (20000, 58)\n",
      "\n",
      "Columns being dropped:\n",
      "socialEngagementType\n",
      "totals_visits\n",
      "device.browserSize\n",
      "device.browserVersion\n",
      "device.flashVersion\n",
      "device.language\n",
      "device.mobileDeviceBranding\n",
      "device.mobileDeviceInfo\n",
      "device.mobileDeviceMarketingName\n",
      "device.mobileDeviceModel\n",
      "device.mobileInputSelector\n",
      "device.operatingSystemVersion\n",
      "device.screenColors\n",
      "device.screenResolution\n",
      "geoNetwork.cityId\n",
      "geoNetwork.latitude\n",
      "geoNetwork.longitude\n",
      "geoNetwork.networkLocation\n",
      "trafficSource.adwordsClickInfo.criteriaParameters\n",
      "\n",
      "Data shape after dropping constant columns: (20000, 39)\n"
     ]
    }
   ],
   "source": [
    "print('Data shape before dropping constant columns:', data.shape)\n",
    "\n",
    "print('\\nColumns being dropped:')\n",
    "\n",
    "for col in data.columns:\n",
    "    try:\n",
    "        if (data[col].nunique(dropna=False) == 1):\n",
    "            del(data[col])\n",
    "            print(col)\n",
    "    except TypeError:\n",
    "        a=data[col].astype('str')\n",
    "        if (a.nunique(dropna=False) == 1):\n",
    "            del(data[col])\n",
    "            print(col)\n",
    "del(col)\n",
    "\n",
    "print('\\nData shape after dropping constant columns:', data.shape)"
   ]
  },
  {
   "cell_type": "code",
   "execution_count": 18,
   "metadata": {},
   "outputs": [],
   "source": [
    "data.fillna(0, inplace=True)"
   ]
  },
  {
   "cell_type": "code",
   "execution_count": 19,
   "metadata": {},
   "outputs": [
    {
     "name": "stdout",
     "output_type": "stream",
     "text": [
      "channelGrouping\n",
      "device.browser\n",
      "device.deviceCategory\n",
      "device.operatingSystem\n",
      "geoNetwork.city\n",
      "geoNetwork.continent\n",
      "geoNetwork.country\n",
      "geoNetwork.metro\n",
      "geoNetwork.networkDomain\n",
      "geoNetwork.region\n",
      "geoNetwork.subContinent\n",
      "trafficSource.adContent\n",
      "trafficSource.adwordsClickInfo.adNetworkType\n",
      "trafficSource.adwordsClickInfo.gclId\n",
      "trafficSource.adwordsClickInfo.page\n",
      "trafficSource.adwordsClickInfo.slot\n",
      "trafficSource.campaign\n",
      "trafficSource.keyword\n",
      "trafficSource.medium\n",
      "trafficSource.referralPath\n",
      "trafficSource.source\n",
      "trafficSource.adwordsClickInfo.isVideoAd\n",
      "trafficSource.isTrueDirect\n",
      "customDimensions.value\n"
     ]
    }
   ],
   "source": [
    "cat_cols = [\"channelGrouping\", \"device.browser\", \n",
    "            \"device.deviceCategory\", \"device.operatingSystem\", \n",
    "            \"geoNetwork.city\", \"geoNetwork.continent\", \n",
    "            \"geoNetwork.country\", \"geoNetwork.metro\",\n",
    "            \"geoNetwork.networkDomain\", \"geoNetwork.region\", \n",
    "            \"geoNetwork.subContinent\", \"trafficSource.adContent\", \n",
    "            \"trafficSource.adwordsClickInfo.adNetworkType\", \n",
    "            \"trafficSource.adwordsClickInfo.gclId\", \n",
    "            \"trafficSource.adwordsClickInfo.page\", \n",
    "            \"trafficSource.adwordsClickInfo.slot\", \"trafficSource.campaign\",\n",
    "            \"trafficSource.keyword\", \"trafficSource.medium\", \n",
    "            \"trafficSource.referralPath\", \"trafficSource.source\",\n",
    "            'trafficSource.adwordsClickInfo.isVideoAd', 'trafficSource.isTrueDirect','customDimensions.value']\n",
    "for col in cat_cols:\n",
    "    print(col)\n",
    "    lbl = preprocessing.LabelEncoder()\n",
    "    lbl.fit(list(data[col].values.astype('str')))\n",
    "    data[col] = lbl.transform(list(data[col].values.astype('str')))"
   ]
  },
  {
   "cell_type": "code",
   "execution_count": 20,
   "metadata": {},
   "outputs": [],
   "source": [
    "num_cols = [\"totals_hits\", \"totals_pageviews\", \"visitNumber\", \"visitStartTime\", 'totals_bounces',  'totals_newVisits']    \n",
    "for col in num_cols:\n",
    "    data[col] = data[col].astype(float)"
   ]
  },
  {
   "cell_type": "code",
   "execution_count": 21,
   "metadata": {},
   "outputs": [],
   "source": [
    "data.drop('totals_totalTransactionRevenue', axis=1, inplace=True)"
   ]
  },
  {
   "cell_type": "code",
   "execution_count": 22,
   "metadata": {},
   "outputs": [],
   "source": [
    "data.drop('visitId', axis=1, inplace=True)"
   ]
  },
  {
   "cell_type": "code",
   "execution_count": 23,
   "metadata": {},
   "outputs": [],
   "source": [
    "data.drop('visitStartTime', axis=1, inplace=True)"
   ]
  },
  {
   "cell_type": "code",
   "execution_count": 24,
   "metadata": {},
   "outputs": [],
   "source": [
    "data.drop(['trafficSource.isTrueDirect','trafficSource.referralPath','totals_hits','totals_sessionQualityDim', 'totals_timeOnSite','device.isMobile','trafficSource.adContent',\n",
    "       'trafficSource.adwordsClickInfo.adNetworkType',\n",
    "       'trafficSource.adwordsClickInfo.gclId',\n",
    "       'trafficSource.adwordsClickInfo.isVideoAd',\n",
    "       'trafficSource.adwordsClickInfo.page',\n",
    "       'trafficSource.adwordsClickInfo.slot', 'trafficSource.campaign',\n",
    "       'trafficSource.isTrueDirect', 'trafficSource.keyword','trafficSource.keyword',\n",
    "       'trafficSource.medium'],axis=1, inplace=True)"
   ]
  },
  {
   "cell_type": "markdown",
   "metadata": {},
   "source": [
    "## Classification"
   ]
  },
  {
   "cell_type": "markdown",
   "metadata": {},
   "source": [
    "###### Adding new column to classify revenue "
   ]
  },
  {
   "cell_type": "code",
   "execution_count": 25,
   "metadata": {},
   "outputs": [],
   "source": [
    "data['classify_revenue'] = np.where(data['totals_transactionRevenue']>0, 1, 0)"
   ]
  },
  {
   "cell_type": "code",
   "execution_count": 26,
   "metadata": {},
   "outputs": [
    {
     "data": {
      "text/html": [
       "<div>\n",
       "<style scoped>\n",
       "    .dataframe tbody tr th:only-of-type {\n",
       "        vertical-align: middle;\n",
       "    }\n",
       "\n",
       "    .dataframe tbody tr th {\n",
       "        vertical-align: top;\n",
       "    }\n",
       "\n",
       "    .dataframe thead th {\n",
       "        text-align: right;\n",
       "    }\n",
       "</style>\n",
       "<table border=\"1\" class=\"dataframe\">\n",
       "  <thead>\n",
       "    <tr style=\"text-align: right;\">\n",
       "      <th></th>\n",
       "      <th>channelGrouping</th>\n",
       "      <th>fullVisitorId</th>\n",
       "      <th>visitNumber</th>\n",
       "      <th>totals_bounces</th>\n",
       "      <th>totals_newVisits</th>\n",
       "      <th>totals_pageviews</th>\n",
       "      <th>totals_transactionRevenue</th>\n",
       "      <th>totals_transactions</th>\n",
       "      <th>device.browser</th>\n",
       "      <th>device.deviceCategory</th>\n",
       "      <th>...</th>\n",
       "      <th>geoNetwork.continent</th>\n",
       "      <th>geoNetwork.country</th>\n",
       "      <th>geoNetwork.metro</th>\n",
       "      <th>geoNetwork.networkDomain</th>\n",
       "      <th>geoNetwork.region</th>\n",
       "      <th>geoNetwork.subContinent</th>\n",
       "      <th>trafficSource.source</th>\n",
       "      <th>customDimensions.index</th>\n",
       "      <th>customDimensions.value</th>\n",
       "      <th>classify_revenue</th>\n",
       "    </tr>\n",
       "    <tr>\n",
       "      <th>date</th>\n",
       "      <th></th>\n",
       "      <th></th>\n",
       "      <th></th>\n",
       "      <th></th>\n",
       "      <th></th>\n",
       "      <th></th>\n",
       "      <th></th>\n",
       "      <th></th>\n",
       "      <th></th>\n",
       "      <th></th>\n",
       "      <th></th>\n",
       "      <th></th>\n",
       "      <th></th>\n",
       "      <th></th>\n",
       "      <th></th>\n",
       "      <th></th>\n",
       "      <th></th>\n",
       "      <th></th>\n",
       "      <th></th>\n",
       "      <th></th>\n",
       "      <th></th>\n",
       "    </tr>\n",
       "  </thead>\n",
       "  <tbody>\n",
       "    <tr>\n",
       "      <th>2017-10-16</th>\n",
       "      <td>3</td>\n",
       "      <td>3162355547410993243</td>\n",
       "      <td>1.0</td>\n",
       "      <td>1.0</td>\n",
       "      <td>1.0</td>\n",
       "      <td>1.0</td>\n",
       "      <td>0.0</td>\n",
       "      <td>0.0</td>\n",
       "      <td>8</td>\n",
       "      <td>0</td>\n",
       "      <td>...</td>\n",
       "      <td>4</td>\n",
       "      <td>48</td>\n",
       "      <td>0</td>\n",
       "      <td>0</td>\n",
       "      <td>0</td>\n",
       "      <td>21</td>\n",
       "      <td>25</td>\n",
       "      <td>4</td>\n",
       "      <td>3</td>\n",
       "      <td>0</td>\n",
       "    </tr>\n",
       "    <tr>\n",
       "      <th>2017-10-16</th>\n",
       "      <td>5</td>\n",
       "      <td>8934116514970143966</td>\n",
       "      <td>6.0</td>\n",
       "      <td>0.0</td>\n",
       "      <td>0.0</td>\n",
       "      <td>2.0</td>\n",
       "      <td>0.0</td>\n",
       "      <td>0.0</td>\n",
       "      <td>5</td>\n",
       "      <td>0</td>\n",
       "      <td>...</td>\n",
       "      <td>2</td>\n",
       "      <td>147</td>\n",
       "      <td>27</td>\n",
       "      <td>0</td>\n",
       "      <td>18</td>\n",
       "      <td>12</td>\n",
       "      <td>70</td>\n",
       "      <td>4</td>\n",
       "      <td>4</td>\n",
       "      <td>0</td>\n",
       "    </tr>\n",
       "    <tr>\n",
       "      <th>2017-10-16</th>\n",
       "      <td>1</td>\n",
       "      <td>7992466427990357681</td>\n",
       "      <td>1.0</td>\n",
       "      <td>0.0</td>\n",
       "      <td>1.0</td>\n",
       "      <td>2.0</td>\n",
       "      <td>0.0</td>\n",
       "      <td>0.0</td>\n",
       "      <td>5</td>\n",
       "      <td>1</td>\n",
       "      <td>...</td>\n",
       "      <td>2</td>\n",
       "      <td>147</td>\n",
       "      <td>0</td>\n",
       "      <td>2435</td>\n",
       "      <td>0</td>\n",
       "      <td>12</td>\n",
       "      <td>0</td>\n",
       "      <td>4</td>\n",
       "      <td>4</td>\n",
       "      <td>0</td>\n",
       "    </tr>\n",
       "    <tr>\n",
       "      <th>2017-10-16</th>\n",
       "      <td>3</td>\n",
       "      <td>9075655783635761930</td>\n",
       "      <td>1.0</td>\n",
       "      <td>0.0</td>\n",
       "      <td>1.0</td>\n",
       "      <td>2.0</td>\n",
       "      <td>0.0</td>\n",
       "      <td>0.0</td>\n",
       "      <td>5</td>\n",
       "      <td>0</td>\n",
       "      <td>...</td>\n",
       "      <td>3</td>\n",
       "      <td>141</td>\n",
       "      <td>0</td>\n",
       "      <td>0</td>\n",
       "      <td>0</td>\n",
       "      <td>20</td>\n",
       "      <td>25</td>\n",
       "      <td>4</td>\n",
       "      <td>3</td>\n",
       "      <td>0</td>\n",
       "    </tr>\n",
       "    <tr>\n",
       "      <th>2017-10-16</th>\n",
       "      <td>3</td>\n",
       "      <td>6960673291025684308</td>\n",
       "      <td>1.0</td>\n",
       "      <td>0.0</td>\n",
       "      <td>1.0</td>\n",
       "      <td>2.0</td>\n",
       "      <td>0.0</td>\n",
       "      <td>0.0</td>\n",
       "      <td>5</td>\n",
       "      <td>0</td>\n",
       "      <td>...</td>\n",
       "      <td>2</td>\n",
       "      <td>90</td>\n",
       "      <td>0</td>\n",
       "      <td>1647</td>\n",
       "      <td>0</td>\n",
       "      <td>3</td>\n",
       "      <td>25</td>\n",
       "      <td>4</td>\n",
       "      <td>2</td>\n",
       "      <td>0</td>\n",
       "    </tr>\n",
       "  </tbody>\n",
       "</table>\n",
       "<p>5 rows × 22 columns</p>\n",
       "</div>"
      ],
      "text/plain": [
       "            channelGrouping        fullVisitorId  visitNumber  totals_bounces  \\\n",
       "date                                                                            \n",
       "2017-10-16                3  3162355547410993243          1.0             1.0   \n",
       "2017-10-16                5  8934116514970143966          6.0             0.0   \n",
       "2017-10-16                1  7992466427990357681          1.0             0.0   \n",
       "2017-10-16                3  9075655783635761930          1.0             0.0   \n",
       "2017-10-16                3  6960673291025684308          1.0             0.0   \n",
       "\n",
       "            totals_newVisits  totals_pageviews  totals_transactionRevenue  \\\n",
       "date                                                                        \n",
       "2017-10-16               1.0               1.0                        0.0   \n",
       "2017-10-16               0.0               2.0                        0.0   \n",
       "2017-10-16               1.0               2.0                        0.0   \n",
       "2017-10-16               1.0               2.0                        0.0   \n",
       "2017-10-16               1.0               2.0                        0.0   \n",
       "\n",
       "            totals_transactions  device.browser  device.deviceCategory  \\\n",
       "date                                                                     \n",
       "2017-10-16                  0.0               8                      0   \n",
       "2017-10-16                  0.0               5                      0   \n",
       "2017-10-16                  0.0               5                      1   \n",
       "2017-10-16                  0.0               5                      0   \n",
       "2017-10-16                  0.0               5                      0   \n",
       "\n",
       "                 ...         geoNetwork.continent  geoNetwork.country  \\\n",
       "date             ...                                                    \n",
       "2017-10-16       ...                            4                  48   \n",
       "2017-10-16       ...                            2                 147   \n",
       "2017-10-16       ...                            2                 147   \n",
       "2017-10-16       ...                            3                 141   \n",
       "2017-10-16       ...                            2                  90   \n",
       "\n",
       "            geoNetwork.metro  geoNetwork.networkDomain  geoNetwork.region  \\\n",
       "date                                                                        \n",
       "2017-10-16                 0                         0                  0   \n",
       "2017-10-16                27                         0                 18   \n",
       "2017-10-16                 0                      2435                  0   \n",
       "2017-10-16                 0                         0                  0   \n",
       "2017-10-16                 0                      1647                  0   \n",
       "\n",
       "            geoNetwork.subContinent  trafficSource.source  \\\n",
       "date                                                        \n",
       "2017-10-16                       21                    25   \n",
       "2017-10-16                       12                    70   \n",
       "2017-10-16                       12                     0   \n",
       "2017-10-16                       20                    25   \n",
       "2017-10-16                        3                    25   \n",
       "\n",
       "            customDimensions.index  customDimensions.value classify_revenue  \n",
       "date                                                                         \n",
       "2017-10-16                       4                       3                0  \n",
       "2017-10-16                       4                       4                0  \n",
       "2017-10-16                       4                       4                0  \n",
       "2017-10-16                       4                       3                0  \n",
       "2017-10-16                       4                       2                0  \n",
       "\n",
       "[5 rows x 22 columns]"
      ]
     },
     "execution_count": 26,
     "metadata": {},
     "output_type": "execute_result"
    }
   ],
   "source": [
    "data.head(5)"
   ]
  },
  {
   "cell_type": "markdown",
   "metadata": {},
   "source": [
    "###### Creating dataset for classification model"
   ]
  },
  {
   "cell_type": "code",
   "execution_count": 27,
   "metadata": {},
   "outputs": [],
   "source": [
    "y_clf=data[\"classify_revenue\"]\n",
    "X_clf=data.drop([\"totals_transactionRevenue\",\"classify_revenue\"],axis=1)"
   ]
  },
  {
   "cell_type": "code",
   "execution_count": null,
   "metadata": {},
   "outputs": [],
   "source": []
  },
  {
   "cell_type": "code",
   "execution_count": 28,
   "metadata": {},
   "outputs": [],
   "source": [
    "X_clf.drop('fullVisitorId', axis=1, inplace=True)"
   ]
  },
  {
   "cell_type": "markdown",
   "metadata": {},
   "source": [
    "###### Splitting data into train and test"
   ]
  },
  {
   "cell_type": "code",
   "execution_count": 29,
   "metadata": {},
   "outputs": [],
   "source": [
    "X_train_org, X_test_org, y_train, y_test = train_test_split(X_clf,y_clf,test_size=.2,random_state=0)"
   ]
  },
  {
   "cell_type": "code",
   "execution_count": 87,
   "metadata": {},
   "outputs": [
    {
     "data": {
      "text/plain": [
       "(20000, 19)"
      ]
     },
     "execution_count": 87,
     "metadata": {},
     "output_type": "execute_result"
    }
   ],
   "source": [
    "X_clf.shape"
   ]
  },
  {
   "cell_type": "code",
   "execution_count": 88,
   "metadata": {},
   "outputs": [
    {
     "data": {
      "text/plain": [
       "Index(['channelGrouping', 'visitNumber', 'totals_bounces', 'totals_newVisits',\n",
       "       'totals_pageviews', 'totals_transactions', 'device.browser',\n",
       "       'device.deviceCategory', 'device.operatingSystem', 'geoNetwork.city',\n",
       "       'geoNetwork.continent', 'geoNetwork.country', 'geoNetwork.metro',\n",
       "       'geoNetwork.networkDomain', 'geoNetwork.region',\n",
       "       'geoNetwork.subContinent', 'trafficSource.source',\n",
       "       'customDimensions.index', 'customDimensions.value'],\n",
       "      dtype='object')"
      ]
     },
     "execution_count": 88,
     "metadata": {},
     "output_type": "execute_result"
    }
   ],
   "source": [
    "X_clf.columns"
   ]
  },
  {
   "cell_type": "markdown",
   "metadata": {},
   "source": [
    "###### Scaling data using MinMaxScaler"
   ]
  },
  {
   "cell_type": "code",
   "execution_count": 30,
   "metadata": {
    "scrolled": true
   },
   "outputs": [],
   "source": [
    "sc = MinMaxScaler()\n",
    "X_train = sc.fit_transform(X_train_org)\n",
    "X_test = sc.transform(X_test_org)"
   ]
  },
  {
   "cell_type": "markdown",
   "metadata": {},
   "source": [
    "###### Gradient Boosting Classifier"
   ]
  },
  {
   "cell_type": "markdown",
   "metadata": {},
   "source": [
    "###### Using grid search to find the optimum model parameters with best precision score and least false negetive"
   ]
  },
  {
   "cell_type": "code",
   "execution_count": 31,
   "metadata": {},
   "outputs": [
    {
     "name": "stdout",
     "output_type": "stream",
     "text": [
      "Parameter grid:\n",
      "{'n_estimators': [20, 50, 80, 100]}\n"
     ]
    },
    {
     "data": {
      "text/plain": [
       "GridSearchCV(cv=5, error_score='raise',\n",
       "       estimator=GradientBoostingClassifier(criterion='friedman_mse', init=None,\n",
       "              learning_rate=0.1, loss='deviance', max_depth=6,\n",
       "              max_features='sqrt', max_leaf_nodes=None,\n",
       "              min_impurity_decrease=0.0, min_impurity_split=None,\n",
       "              min_samples_leaf=50, min_samples_split=500,\n",
       "              min_weight_fraction_leaf=0.0, n_estimators=100,\n",
       "              presort='auto', random_state=10, subsample=0.8, verbose=0,\n",
       "              warm_start=False),\n",
       "       fit_params=None, iid=True, n_jobs=1,\n",
       "       param_grid={'n_estimators': [20, 50, 80, 100]},\n",
       "       pre_dispatch='2*n_jobs', refit=True, return_train_score=True,\n",
       "       scoring='precision', verbose=0)"
      ]
     },
     "execution_count": 31,
     "metadata": {},
     "output_type": "execute_result"
    }
   ],
   "source": [
    "param_grid_gb = {\n",
    "'n_estimators' : [20,50,80,100],\n",
    "                  }\n",
    "\n",
    "print(\"Parameter grid:\\n{}\".format(param_grid_gb))\n",
    "\n",
    "grid_search_gb = GridSearchCV(GradientBoostingClassifier(learning_rate=0.1, min_samples_split=500,min_samples_leaf=50,max_depth=6,max_features='sqrt',subsample=0.8,random_state=10), param_grid_gb, cv=5, return_train_score=True,scoring='precision')\n",
    "grid_search_gb.fit(X_train,y_train)"
   ]
  },
  {
   "cell_type": "code",
   "execution_count": 60,
   "metadata": {},
   "outputs": [
    {
     "data": {
      "text/plain": [
       "([mean: 0.98571, std: 0.02857, params: {'n_estimators': 20},\n",
       "  mean: 0.98787, std: 0.02424, params: {'n_estimators': 50},\n",
       "  mean: 0.98787, std: 0.02424, params: {'n_estimators': 80},\n",
       "  mean: 0.98787, std: 0.02424, params: {'n_estimators': 100}],\n",
       " {'n_estimators': 50},\n",
       " 0.987875)"
      ]
     },
     "execution_count": 60,
     "metadata": {},
     "output_type": "execute_result"
    }
   ],
   "source": [
    "grid_search_gb.grid_scores_, grid_search_gb.best_params_, grid_search_gb.best_score_"
   ]
  },
  {
   "cell_type": "code",
   "execution_count": 92,
   "metadata": {},
   "outputs": [
    {
     "name": "stdout",
     "output_type": "stream",
     "text": [
      "Parameter grid:\n",
      "{'max_depth': [3, 7, 10, 15], 'min_samples_split': [100, 300, 500]}\n"
     ]
    },
    {
     "data": {
      "text/plain": [
       "GridSearchCV(cv=5, error_score='raise',\n",
       "       estimator=GradientBoostingClassifier(criterion='friedman_mse', init=None,\n",
       "              learning_rate=0.1, loss='deviance', max_depth=3,\n",
       "              max_features='sqrt', max_leaf_nodes=None,\n",
       "              min_impurity_decrease=0.0, min_impurity_split=None,\n",
       "              min_samples_leaf=1, min_samples_split=2,\n",
       "              min_weight_fraction_leaf=0.0, n_estimators=50,\n",
       "              presort='auto', random_state=10, subsample=0.8, verbose=0,\n",
       "              warm_start=False),\n",
       "       fit_params=None, iid=True, n_jobs=1,\n",
       "       param_grid={'max_depth': [3, 7, 10, 15], 'min_samples_split': [100, 300, 500]},\n",
       "       pre_dispatch='2*n_jobs', refit=True, return_train_score=True,\n",
       "       scoring='precision', verbose=0)"
      ]
     },
     "execution_count": 92,
     "metadata": {},
     "output_type": "execute_result"
    }
   ],
   "source": [
    "param_grid_gb = {\n",
    "'max_depth' : [3,7,10,15],\n",
    "'min_samples_split': [100,300,500],\n",
    "                  }\n",
    "\n",
    "print(\"Parameter grid:\\n{}\".format(param_grid_gb))\n",
    "\n",
    "grid_search_gb2 = GridSearchCV(GradientBoostingClassifier(learning_rate=0.1, n_estimators=50, max_features='sqrt', subsample=0.8, random_state=10), param_grid_gb, cv=5, return_train_score=True,scoring='precision')\n",
    "grid_search_gb2.fit(X_train,y_train)\n",
    "\n"
   ]
  },
  {
   "cell_type": "code",
   "execution_count": 93,
   "metadata": {},
   "outputs": [
    {
     "data": {
      "text/plain": [
       "([mean: 0.98787, std: 0.02424, params: {'max_depth': 3, 'min_samples_split': 100},\n",
       "  mean: 0.98787, std: 0.02424, params: {'max_depth': 3, 'min_samples_split': 300},\n",
       "  mean: 0.98787, std: 0.02424, params: {'max_depth': 3, 'min_samples_split': 500},\n",
       "  mean: 0.98787, std: 0.02424, params: {'max_depth': 7, 'min_samples_split': 100},\n",
       "  mean: 0.98143, std: 0.02445, params: {'max_depth': 7, 'min_samples_split': 300},\n",
       "  mean: 0.98143, std: 0.02445, params: {'max_depth': 7, 'min_samples_split': 500},\n",
       "  mean: 0.98787, std: 0.02424, params: {'max_depth': 10, 'min_samples_split': 100},\n",
       "  mean: 0.98143, std: 0.02445, params: {'max_depth': 10, 'min_samples_split': 300},\n",
       "  mean: 0.98143, std: 0.02445, params: {'max_depth': 10, 'min_samples_split': 500},\n",
       "  mean: 0.98787, std: 0.02424, params: {'max_depth': 15, 'min_samples_split': 100},\n",
       "  mean: 0.98143, std: 0.02445, params: {'max_depth': 15, 'min_samples_split': 300},\n",
       "  mean: 0.98143, std: 0.02445, params: {'max_depth': 15, 'min_samples_split': 500}],\n",
       " {'max_depth': 3, 'min_samples_split': 100},\n",
       " 0.987875)"
      ]
     },
     "execution_count": 93,
     "metadata": {},
     "output_type": "execute_result"
    }
   ],
   "source": [
    "grid_search_gb2.grid_scores_, grid_search_gb2.best_params_, grid_search_gb2.best_score_"
   ]
  },
  {
   "cell_type": "code",
   "execution_count": 94,
   "metadata": {},
   "outputs": [
    {
     "name": "stdout",
     "output_type": "stream",
     "text": [
      "Parameter grid:\n",
      "{'min_samples_split': [2, 3, 5, 20, 100], 'min_samples_leaf': [20, 30, 50]}\n"
     ]
    },
    {
     "data": {
      "text/plain": [
       "GridSearchCV(cv=5, error_score='raise',\n",
       "       estimator=GradientBoostingClassifier(criterion='friedman_mse', init=None,\n",
       "              learning_rate=0.1, loss='deviance', max_depth=3,\n",
       "              max_features='sqrt', max_leaf_nodes=None,\n",
       "              min_impurity_decrease=0.0, min_impurity_split=None,\n",
       "              min_samples_leaf=1, min_samples_split=2,\n",
       "              min_weight_fraction_leaf=0.0, n_estimators=50,\n",
       "              presort='auto', random_state=10, subsample=0.8, verbose=0,\n",
       "              warm_start=False),\n",
       "       fit_params=None, iid=True, n_jobs=1,\n",
       "       param_grid={'min_samples_split': [2, 3, 5, 20, 100], 'min_samples_leaf': [20, 30, 50]},\n",
       "       pre_dispatch='2*n_jobs', refit=True, return_train_score=True,\n",
       "       scoring='precision', verbose=0)"
      ]
     },
     "execution_count": 94,
     "metadata": {},
     "output_type": "execute_result"
    }
   ],
   "source": [
    "param_grid_gb = {\n",
    "'min_samples_split': [2,3,5,20,100],\n",
    "'min_samples_leaf': [20,30,50]\n",
    "                  }\n",
    "\n",
    "print(\"Parameter grid:\\n{}\".format(param_grid_gb))\n",
    "\n",
    "grid_search_gb3 = GridSearchCV(GradientBoostingClassifier(learning_rate=0.1, n_estimators=50, max_features='sqrt', subsample=0.8,max_depth= 3, random_state=10), param_grid_gb, cv=5, return_train_score=True,scoring='precision')\n",
    "grid_search_gb3.fit(X_train,y_train)\n"
   ]
  },
  {
   "cell_type": "code",
   "execution_count": 95,
   "metadata": {},
   "outputs": [
    {
     "data": {
      "text/plain": [
       "([mean: 0.98787, std: 0.02424, params: {'min_samples_leaf': 20, 'min_samples_split': 2},\n",
       "  mean: 0.98787, std: 0.02424, params: {'min_samples_leaf': 20, 'min_samples_split': 3},\n",
       "  mean: 0.98787, std: 0.02424, params: {'min_samples_leaf': 20, 'min_samples_split': 5},\n",
       "  mean: 0.98787, std: 0.02424, params: {'min_samples_leaf': 20, 'min_samples_split': 20},\n",
       "  mean: 0.98787, std: 0.02424, params: {'min_samples_leaf': 20, 'min_samples_split': 100},\n",
       "  mean: 0.98787, std: 0.02424, params: {'min_samples_leaf': 30, 'min_samples_split': 2},\n",
       "  mean: 0.98787, std: 0.02424, params: {'min_samples_leaf': 30, 'min_samples_split': 3},\n",
       "  mean: 0.98787, std: 0.02424, params: {'min_samples_leaf': 30, 'min_samples_split': 5},\n",
       "  mean: 0.98787, std: 0.02424, params: {'min_samples_leaf': 30, 'min_samples_split': 20},\n",
       "  mean: 0.98787, std: 0.02424, params: {'min_samples_leaf': 30, 'min_samples_split': 100},\n",
       "  mean: 0.98787, std: 0.02424, params: {'min_samples_leaf': 50, 'min_samples_split': 2},\n",
       "  mean: 0.98787, std: 0.02424, params: {'min_samples_leaf': 50, 'min_samples_split': 3},\n",
       "  mean: 0.98787, std: 0.02424, params: {'min_samples_leaf': 50, 'min_samples_split': 5},\n",
       "  mean: 0.98787, std: 0.02424, params: {'min_samples_leaf': 50, 'min_samples_split': 20},\n",
       "  mean: 0.98787, std: 0.02424, params: {'min_samples_leaf': 50, 'min_samples_split': 100}],\n",
       " {'min_samples_leaf': 20, 'min_samples_split': 2},\n",
       " 0.987875)"
      ]
     },
     "execution_count": 95,
     "metadata": {},
     "output_type": "execute_result"
    }
   ],
   "source": [
    "grid_search_gb3.grid_scores_, grid_search_gb3.best_params_, grid_search_gb3.best_score_"
   ]
  },
  {
   "cell_type": "code",
   "execution_count": 96,
   "metadata": {
    "scrolled": true
   },
   "outputs": [
    {
     "name": "stdout",
     "output_type": "stream",
     "text": [
      "Parameter grid:\n",
      "{'max_features': [5, 10, 15, 'sqrt', 'log2', 'auto']}\n"
     ]
    },
    {
     "data": {
      "text/plain": [
       "GridSearchCV(cv=5, error_score='raise',\n",
       "       estimator=GradientBoostingClassifier(criterion='friedman_mse', init=None,\n",
       "              learning_rate=0.1, loss='deviance', max_depth=3,\n",
       "              max_features=None, max_leaf_nodes=None,\n",
       "              min_impurity_decrease=0.0, min_impurity_split=None,\n",
       "              min_samples_leaf=20, min_samples_split=2,\n",
       "              min_weight_fraction_leaf=0.0, n_estimators=50,\n",
       "              presort='auto', random_state=10, subsample=0.8, verbose=0,\n",
       "              warm_start=False),\n",
       "       fit_params=None, iid=True, n_jobs=1,\n",
       "       param_grid={'max_features': [5, 10, 15, 'sqrt', 'log2', 'auto']},\n",
       "       pre_dispatch='2*n_jobs', refit=True, return_train_score=True,\n",
       "       scoring='precision', verbose=0)"
      ]
     },
     "execution_count": 96,
     "metadata": {},
     "output_type": "execute_result"
    }
   ],
   "source": [
    "param_grid_gb = {\n",
    "'max_features':[5,10,15,'sqrt','log2','auto']\n",
    "                  }\n",
    "\n",
    "print(\"Parameter grid:\\n{}\".format(param_grid_gb))\n",
    "\n",
    "grid_search_gb4 = GridSearchCV(GradientBoostingClassifier(learning_rate=0.1, n_estimators=50, subsample=0.8,max_depth= 3,min_samples_leaf=20,min_samples_split=2, random_state=10), param_grid_gb, cv=5, return_train_score=True,scoring='precision')\n",
    "grid_search_gb4.fit(X_train,y_train)\n"
   ]
  },
  {
   "cell_type": "code",
   "execution_count": 97,
   "metadata": {},
   "outputs": [
    {
     "data": {
      "text/plain": [
       "([mean: 0.98787, std: 0.02424, params: {'max_features': 5},\n",
       "  mean: 0.98787, std: 0.02424, params: {'max_features': 10},\n",
       "  mean: 0.98787, std: 0.02424, params: {'max_features': 15},\n",
       "  mean: 0.98787, std: 0.02424, params: {'max_features': 'sqrt'},\n",
       "  mean: 0.98787, std: 0.02424, params: {'max_features': 'log2'},\n",
       "  mean: 0.98787, std: 0.02424, params: {'max_features': 'auto'}],\n",
       " {'max_features': 5},\n",
       " 0.987875)"
      ]
     },
     "execution_count": 97,
     "metadata": {},
     "output_type": "execute_result"
    }
   ],
   "source": [
    "grid_search_gb4.grid_scores_, grid_search_gb4.best_params_, grid_search_gb4.best_score_"
   ]
  },
  {
   "cell_type": "code",
   "execution_count": 98,
   "metadata": {},
   "outputs": [
    {
     "name": "stdout",
     "output_type": "stream",
     "text": [
      "Parameter grid:\n",
      "{'subsample': [0.6, 0.7, 0.8, 0.9]}\n"
     ]
    },
    {
     "data": {
      "text/plain": [
       "GridSearchCV(cv=5, error_score='raise',\n",
       "       estimator=GradientBoostingClassifier(criterion='friedman_mse', init=None,\n",
       "              learning_rate=0.1, loss='deviance', max_depth=3,\n",
       "              max_features=5, max_leaf_nodes=None,\n",
       "              min_impurity_decrease=0.0, min_impurity_split=None,\n",
       "              min_samples_leaf=20, min_samples_split=2,\n",
       "              min_weight_fraction_leaf=0.0, n_estimators=50,\n",
       "              presort='auto', random_state=10, subsample=1.0, verbose=0,\n",
       "              warm_start=False),\n",
       "       fit_params=None, iid=True, n_jobs=1,\n",
       "       param_grid={'subsample': [0.6, 0.7, 0.8, 0.9]},\n",
       "       pre_dispatch='2*n_jobs', refit=True, return_train_score=True,\n",
       "       scoring='precision', verbose=0)"
      ]
     },
     "execution_count": 98,
     "metadata": {},
     "output_type": "execute_result"
    }
   ],
   "source": [
    "param_grid_gb = {\n",
    "'subsample':[0.6,0.7,0.8,0.9]\n",
    "                  }\n",
    "\n",
    "print(\"Parameter grid:\\n{}\".format(param_grid_gb))\n",
    "\n",
    "grid_search_gb5 = GridSearchCV(GradientBoostingClassifier(learning_rate=0.1, n_estimators=50, max_depth= 3,min_samples_leaf=20,min_samples_split=2, max_features=5,random_state=10), param_grid_gb, cv=5, return_train_score=True,scoring='precision')\n",
    "grid_search_gb5.fit(X_train,y_train)\n"
   ]
  },
  {
   "cell_type": "code",
   "execution_count": 99,
   "metadata": {},
   "outputs": [
    {
     "data": {
      "text/plain": [
       "([mean: 0.98787, std: 0.02424, params: {'subsample': 0.6},\n",
       "  mean: 0.98787, std: 0.02424, params: {'subsample': 0.7},\n",
       "  mean: 0.98787, std: 0.02424, params: {'subsample': 0.8},\n",
       "  mean: 0.98787, std: 0.02424, params: {'subsample': 0.9}],\n",
       " {'subsample': 0.6},\n",
       " 0.987875)"
      ]
     },
     "execution_count": 99,
     "metadata": {},
     "output_type": "execute_result"
    }
   ],
   "source": [
    "grid_search_gb5.grid_scores_, grid_search_gb5.best_params_, grid_search_gb5.best_score_"
   ]
  },
  {
   "cell_type": "code",
   "execution_count": 34,
   "metadata": {},
   "outputs": [
    {
     "name": "stdout",
     "output_type": "stream",
     "text": [
      "Parameter grid:\n",
      "{'learning_rate': [0.05, 0.1, 0.2]}\n"
     ]
    },
    {
     "data": {
      "text/plain": [
       "GridSearchCV(cv=5, error_score='raise',\n",
       "       estimator=GradientBoostingClassifier(criterion='friedman_mse', init=None,\n",
       "              learning_rate=0.1, loss='deviance', max_depth=3,\n",
       "              max_features=5, max_leaf_nodes=None,\n",
       "              min_impurity_decrease=0.0, min_impurity_split=None,\n",
       "              min_samples_leaf=20, min_samples_split=2,\n",
       "              min_weight_fraction_leaf=0.0, n_estimators=50,\n",
       "              presort='auto', random_state=10, subsample=0.6, verbose=0,\n",
       "              warm_start=False),\n",
       "       fit_params=None, iid=True, n_jobs=1,\n",
       "       param_grid={'learning_rate': [0.05, 0.1, 0.2]},\n",
       "       pre_dispatch='2*n_jobs', refit=True, return_train_score=True,\n",
       "       scoring='precision', verbose=0)"
      ]
     },
     "execution_count": 34,
     "metadata": {},
     "output_type": "execute_result"
    }
   ],
   "source": [
    "param_grid_gb = {\n",
    "'learning_rate':[0.05,0.1,0.2]  }\n",
    "\n",
    "print(\"Parameter grid:\\n{}\".format(param_grid_gb))\n",
    "\n",
    "grid_search_gb6 = GridSearchCV(GradientBoostingClassifier(n_estimators=50, subsample=0.6,max_depth= 3,min_samples_leaf=20,min_samples_split=2,max_features=5, random_state=10), param_grid_gb, cv=5, return_train_score=True,scoring='precision')\n",
    "grid_search_gb6.fit(X_train,y_train)\n",
    "#y_test_gb = grid_search_gb.predict(X_test)"
   ]
  },
  {
   "cell_type": "code",
   "execution_count": 35,
   "metadata": {
    "scrolled": false
   },
   "outputs": [
    {
     "data": {
      "text/plain": [
       "([mean: 0.98787, std: 0.02424, params: {'learning_rate': 0.05},\n",
       "  mean: 0.98787, std: 0.02424, params: {'learning_rate': 0.1},\n",
       "  mean: 0.47405, std: 0.43124, params: {'learning_rate': 0.2}],\n",
       " {'learning_rate': 0.05},\n",
       " 0.987875)"
      ]
     },
     "execution_count": 35,
     "metadata": {},
     "output_type": "execute_result"
    }
   ],
   "source": [
    "grid_search_gb6.grid_scores_, grid_search_gb6.best_params_, grid_search_gb6.best_score_"
   ]
  },
  {
   "cell_type": "code",
   "execution_count": 36,
   "metadata": {},
   "outputs": [
    {
     "data": {
      "text/plain": [
       "GradientBoostingClassifier(criterion='friedman_mse', init=None,\n",
       "              learning_rate=0.05, loss='deviance', max_depth=3,\n",
       "              max_features=5, max_leaf_nodes=None,\n",
       "              min_impurity_decrease=0.0, min_impurity_split=None,\n",
       "              min_samples_leaf=20, min_samples_split=2,\n",
       "              min_weight_fraction_leaf=0.0, n_estimators=50,\n",
       "              presort='auto', random_state=10, subsample=0.6, verbose=0,\n",
       "              warm_start=False)"
      ]
     },
     "execution_count": 36,
     "metadata": {},
     "output_type": "execute_result"
    }
   ],
   "source": [
    "gbrt = GradientBoostingClassifier( learning_rate=0.05,n_estimators=50, subsample=0.6,max_depth= 3,min_samples_leaf=20,min_samples_split=2,max_features=5, random_state=10)\n",
    "gbrt.fit(X_train, y_train)"
   ]
  },
  {
   "cell_type": "code",
   "execution_count": 37,
   "metadata": {},
   "outputs": [
    {
     "name": "stdout",
     "output_type": "stream",
     "text": [
      "Train precision_score: 0.98026\n",
      "Test precision_score: 1.00000 \n"
     ]
    }
   ],
   "source": [
    "y_pred_gbrt_train = gbrt.predict(X_train)\n",
    "y_pred_gbrt =gbrt.predict(X_test)\n",
    "print('Train precision_score: %.5f'%precision_score(y_pred_gbrt_train, y_train))\n",
    "print('Test precision_score: %.5f '%precision_score(y_pred_gbrt, y_test))"
   ]
  },
  {
   "cell_type": "markdown",
   "metadata": {},
   "source": [
    "###### Confusion Matrix"
   ]
  },
  {
   "cell_type": "code",
   "execution_count": 38,
   "metadata": {},
   "outputs": [
    {
     "data": {
      "text/plain": [
       "array([[3958,    1],\n",
       "       [   0,   41]], dtype=int64)"
      ]
     },
     "execution_count": 38,
     "metadata": {},
     "output_type": "execute_result"
    }
   ],
   "source": [
    "mat = confusion_matrix(y_test, y_pred_gbrt)\n",
    "mat"
   ]
  },
  {
   "cell_type": "code",
   "execution_count": 309,
   "metadata": {},
   "outputs": [
    {
     "data": {
      "image/png": "[encoded data removed]",
      "text/plain": [
       "<Figure size 360x360 with 2 Axes>"
      ]
     },
     "metadata": {},
     "output_type": "display_data"
    }
   ],
   "source": [
    "plt.subplots(figsize = (5,5))\n",
    "sns.heatmap(mat, square=True, annot=True, cbar=True , cmap = 'Blues')\n",
    "plt.xlabel('predicted value')\n",
    "plt.ylabel('true value');"
   ]
  },
  {
   "cell_type": "code",
   "execution_count": 310,
   "metadata": {
    "scrolled": true
   },
   "outputs": [
    {
     "name": "stdout",
     "output_type": "stream",
     "text": [
      "             precision    recall  f1-score   support\n",
      "\n",
      "          0       1.00      1.00      1.00      3958\n",
      "          1       1.00      0.98      0.99        42\n",
      "\n",
      "avg / total       1.00      1.00      1.00      4000\n",
      "\n"
     ]
    }
   ],
   "source": [
    "print(metrics.classification_report(y_pred_gbrt, y_test))"
   ]
  },
  {
   "cell_type": "code",
   "execution_count": null,
   "metadata": {},
   "outputs": [],
   "source": []
  },
  {
   "cell_type": "code",
   "execution_count": 311,
   "metadata": {},
   "outputs": [
    {
     "data": {
      "text/plain": [
       "0.9996875"
      ]
     },
     "execution_count": 311,
     "metadata": {},
     "output_type": "execute_result"
    }
   ],
   "source": [
    "gbrt.train_score_ \n",
    "gbrt.loss_\n",
    "gbrt.score(X_train, y_train)"
   ]
  },
  {
   "cell_type": "markdown",
   "metadata": {},
   "source": [
    "###### Feature Importance"
   ]
  },
  {
   "cell_type": "code",
   "execution_count": 313,
   "metadata": {},
   "outputs": [
    {
     "data": {
      "image/png": "[encoded data removed]",
      "text/plain": [
       "<Figure size 1440x720 with 1 Axes>"
      ]
     },
     "metadata": {},
     "output_type": "display_data"
    },
    {
     "data": {
      "text/plain": [
       "<Figure size 432x288 with 0 Axes>"
      ]
     },
     "metadata": {},
     "output_type": "display_data"
    }
   ],
   "source": [
    "feature_imp_gbrt = pd.DataFrame(sorted(zip(gbrt.feature_importances_,X_clf.columns)), columns=['Value','Feature'])\n",
    "\n",
    "plt.figure(figsize=(20, 10))\n",
    "sns.barplot(x=\"Value\", y=\"Feature\", data=feature_imp_gbrt.sort_values(by=\"Value\", ascending=False).head(10))\n",
    "plt.title('GradientBoostingClassifier Features')\n",
    "plt.tight_layout()\n",
    "plt.show()\n",
    "plt.savefig('gbrt_importances-02.png')"
   ]
  },
  {
   "cell_type": "code",
   "execution_count": null,
   "metadata": {},
   "outputs": [],
   "source": []
  },
  {
   "cell_type": "code",
   "execution_count": 317,
   "metadata": {},
   "outputs": [],
   "source": [
    "y_pred_gb = gbrt.predict_proba(X_test)[:, 1]\n",
    "fpr_gb, tpr_gb, thresholds_gb = roc_curve(y_test, y_pred_gb)\n",
    "auc_gb = auc(fpr_gb, tpr_gb)"
   ]
  },
  {
   "cell_type": "markdown",
   "metadata": {},
   "source": [
    "###### ROC Curve"
   ]
  },
  {
   "cell_type": "code",
   "execution_count": 323,
   "metadata": {},
   "outputs": [
    {
     "data": {
      "image/png": "[encoded data removed]",
      "text/plain": [
       "<Figure size 432x288 with 1 Axes>"
      ]
     },
     "metadata": {},
     "output_type": "display_data"
    }
   ],
   "source": [
    "plt.figure(1)\n",
    "plt.plot([0, 1], [0, 1], 'k--')\n",
    "plt.plot(fpr_gb, tpr_gb, label='Gradient Boosting Classifier  (area = {:.3f})'.format(auc_gb))\n",
    "plt.xlabel('False positive rate')\n",
    "plt.ylabel('True positive rate')\n",
    "plt.title('ROC curve')\n",
    "plt.legend(loc='best')\n",
    "plt.show()"
   ]
  },
  {
   "cell_type": "markdown",
   "metadata": {},
   "source": [
    "###### Precision-Recall Curve"
   ]
  },
  {
   "cell_type": "code",
   "execution_count": 320,
   "metadata": {},
   "outputs": [],
   "source": [
    "y_score = gbrt.decision_function(X_test)"
   ]
  },
  {
   "cell_type": "code",
   "execution_count": 321,
   "metadata": {},
   "outputs": [],
   "source": [
    "precision, recall, _ = precision_recall_curve(y_test, y_score)"
   ]
  },
  {
   "cell_type": "code",
   "execution_count": 326,
   "metadata": {},
   "outputs": [
    {
     "data": {
      "image/png": "[encoded data removed]",
      "text/plain": [
       "<Figure size 432x288 with 1 Axes>"
      ]
     },
     "metadata": {},
     "output_type": "display_data"
    }
   ],
   "source": [
    "plt.figure(1)\n",
    "plt.plot(recall, precision, label='Gradient Boosting Classifier (precision score = {:.3f})'.format(precision_score(y_pred_gbrt, y_test)))\n",
    "plt.xlabel('Recall')\n",
    "plt.ylabel('Precision')\n",
    "plt.title('Precision-Recall curve')\n",
    "plt.legend(loc='best')\n",
    "plt.show()"
   ]
  },
  {
   "cell_type": "markdown",
   "metadata": {},
   "source": [
    "## Regression"
   ]
  },
  {
   "cell_type": "code",
   "execution_count": null,
   "metadata": {},
   "outputs": [],
   "source": []
  },
  {
   "cell_type": "code",
   "execution_count": 39,
   "metadata": {},
   "outputs": [],
   "source": [
    "y_pred_full=gbrt.predict(X_clf)"
   ]
  },
  {
   "cell_type": "code",
   "execution_count": 40,
   "metadata": {},
   "outputs": [
    {
     "data": {
      "text/plain": [
       "(20000,)"
      ]
     },
     "execution_count": 40,
     "metadata": {},
     "output_type": "execute_result"
    }
   ],
   "source": [
    "y_pred_full.shape"
   ]
  },
  {
   "cell_type": "code",
   "execution_count": 41,
   "metadata": {},
   "outputs": [],
   "source": [
    "data['y_pred']=y_pred_full"
   ]
  },
  {
   "cell_type": "code",
   "execution_count": 358,
   "metadata": {},
   "outputs": [
    {
     "data": {
      "text/html": [
       "<div>\n",
       "<style scoped>\n",
       "    .dataframe tbody tr th:only-of-type {\n",
       "        vertical-align: middle;\n",
       "    }\n",
       "\n",
       "    .dataframe tbody tr th {\n",
       "        vertical-align: top;\n",
       "    }\n",
       "\n",
       "    .dataframe thead th {\n",
       "        text-align: right;\n",
       "    }\n",
       "</style>\n",
       "<table border=\"1\" class=\"dataframe\">\n",
       "  <thead>\n",
       "    <tr style=\"text-align: right;\">\n",
       "      <th></th>\n",
       "      <th>channelGrouping</th>\n",
       "      <th>fullVisitorId</th>\n",
       "      <th>visitNumber</th>\n",
       "      <th>totals_bounces</th>\n",
       "      <th>totals_newVisits</th>\n",
       "      <th>totals_pageviews</th>\n",
       "      <th>totals_transactionRevenue</th>\n",
       "      <th>totals_transactions</th>\n",
       "      <th>device.browser</th>\n",
       "      <th>device.deviceCategory</th>\n",
       "      <th>...</th>\n",
       "      <th>geoNetwork.country</th>\n",
       "      <th>geoNetwork.metro</th>\n",
       "      <th>geoNetwork.networkDomain</th>\n",
       "      <th>geoNetwork.region</th>\n",
       "      <th>geoNetwork.subContinent</th>\n",
       "      <th>trafficSource.source</th>\n",
       "      <th>customDimensions.index</th>\n",
       "      <th>customDimensions.value</th>\n",
       "      <th>classify_revenue</th>\n",
       "      <th>y_pred</th>\n",
       "    </tr>\n",
       "    <tr>\n",
       "      <th>date</th>\n",
       "      <th></th>\n",
       "      <th></th>\n",
       "      <th></th>\n",
       "      <th></th>\n",
       "      <th></th>\n",
       "      <th></th>\n",
       "      <th></th>\n",
       "      <th></th>\n",
       "      <th></th>\n",
       "      <th></th>\n",
       "      <th></th>\n",
       "      <th></th>\n",
       "      <th></th>\n",
       "      <th></th>\n",
       "      <th></th>\n",
       "      <th></th>\n",
       "      <th></th>\n",
       "      <th></th>\n",
       "      <th></th>\n",
       "      <th></th>\n",
       "      <th></th>\n",
       "    </tr>\n",
       "  </thead>\n",
       "  <tbody>\n",
       "    <tr>\n",
       "      <th>2017-10-16</th>\n",
       "      <td>3</td>\n",
       "      <td>3162355547410993243</td>\n",
       "      <td>1.00</td>\n",
       "      <td>1.00</td>\n",
       "      <td>1.00</td>\n",
       "      <td>1.00</td>\n",
       "      <td>0.00</td>\n",
       "      <td>0.00</td>\n",
       "      <td>8</td>\n",
       "      <td>0</td>\n",
       "      <td>...</td>\n",
       "      <td>48</td>\n",
       "      <td>0</td>\n",
       "      <td>0</td>\n",
       "      <td>0</td>\n",
       "      <td>21</td>\n",
       "      <td>25</td>\n",
       "      <td>4</td>\n",
       "      <td>3</td>\n",
       "      <td>0</td>\n",
       "      <td>0</td>\n",
       "    </tr>\n",
       "    <tr>\n",
       "      <th>2017-10-16</th>\n",
       "      <td>5</td>\n",
       "      <td>8934116514970143966</td>\n",
       "      <td>6.00</td>\n",
       "      <td>0.00</td>\n",
       "      <td>0.00</td>\n",
       "      <td>2.00</td>\n",
       "      <td>0.00</td>\n",
       "      <td>0.00</td>\n",
       "      <td>5</td>\n",
       "      <td>0</td>\n",
       "      <td>...</td>\n",
       "      <td>147</td>\n",
       "      <td>27</td>\n",
       "      <td>0</td>\n",
       "      <td>18</td>\n",
       "      <td>12</td>\n",
       "      <td>70</td>\n",
       "      <td>4</td>\n",
       "      <td>4</td>\n",
       "      <td>0</td>\n",
       "      <td>0</td>\n",
       "    </tr>\n",
       "    <tr>\n",
       "      <th>2017-10-16</th>\n",
       "      <td>1</td>\n",
       "      <td>7992466427990357681</td>\n",
       "      <td>1.00</td>\n",
       "      <td>0.00</td>\n",
       "      <td>1.00</td>\n",
       "      <td>2.00</td>\n",
       "      <td>0.00</td>\n",
       "      <td>0.00</td>\n",
       "      <td>5</td>\n",
       "      <td>1</td>\n",
       "      <td>...</td>\n",
       "      <td>147</td>\n",
       "      <td>0</td>\n",
       "      <td>2435</td>\n",
       "      <td>0</td>\n",
       "      <td>12</td>\n",
       "      <td>0</td>\n",
       "      <td>4</td>\n",
       "      <td>4</td>\n",
       "      <td>0</td>\n",
       "      <td>0</td>\n",
       "    </tr>\n",
       "    <tr>\n",
       "      <th>2017-10-16</th>\n",
       "      <td>3</td>\n",
       "      <td>9075655783635761930</td>\n",
       "      <td>1.00</td>\n",
       "      <td>0.00</td>\n",
       "      <td>1.00</td>\n",
       "      <td>2.00</td>\n",
       "      <td>0.00</td>\n",
       "      <td>0.00</td>\n",
       "      <td>5</td>\n",
       "      <td>0</td>\n",
       "      <td>...</td>\n",
       "      <td>141</td>\n",
       "      <td>0</td>\n",
       "      <td>0</td>\n",
       "      <td>0</td>\n",
       "      <td>20</td>\n",
       "      <td>25</td>\n",
       "      <td>4</td>\n",
       "      <td>3</td>\n",
       "      <td>0</td>\n",
       "      <td>0</td>\n",
       "    </tr>\n",
       "    <tr>\n",
       "      <th>2017-10-16</th>\n",
       "      <td>3</td>\n",
       "      <td>6960673291025684308</td>\n",
       "      <td>1.00</td>\n",
       "      <td>0.00</td>\n",
       "      <td>1.00</td>\n",
       "      <td>2.00</td>\n",
       "      <td>0.00</td>\n",
       "      <td>0.00</td>\n",
       "      <td>5</td>\n",
       "      <td>0</td>\n",
       "      <td>...</td>\n",
       "      <td>90</td>\n",
       "      <td>0</td>\n",
       "      <td>1647</td>\n",
       "      <td>0</td>\n",
       "      <td>3</td>\n",
       "      <td>25</td>\n",
       "      <td>4</td>\n",
       "      <td>2</td>\n",
       "      <td>0</td>\n",
       "      <td>0</td>\n",
       "    </tr>\n",
       "  </tbody>\n",
       "</table>\n",
       "<p>5 rows × 23 columns</p>\n",
       "</div>"
      ],
      "text/plain": [
       "            channelGrouping        fullVisitorId  visitNumber  totals_bounces  \\\n",
       "date                                                                            \n",
       "2017-10-16                3  3162355547410993243         1.00            1.00   \n",
       "2017-10-16                5  8934116514970143966         6.00            0.00   \n",
       "2017-10-16                1  7992466427990357681         1.00            0.00   \n",
       "2017-10-16                3  9075655783635761930         1.00            0.00   \n",
       "2017-10-16                3  6960673291025684308         1.00            0.00   \n",
       "\n",
       "            totals_newVisits  totals_pageviews  totals_transactionRevenue  \\\n",
       "date                                                                        \n",
       "2017-10-16              1.00              1.00                       0.00   \n",
       "2017-10-16              0.00              2.00                       0.00   \n",
       "2017-10-16              1.00              2.00                       0.00   \n",
       "2017-10-16              1.00              2.00                       0.00   \n",
       "2017-10-16              1.00              2.00                       0.00   \n",
       "\n",
       "            totals_transactions  device.browser  device.deviceCategory  ...    \\\n",
       "date                                                                    ...     \n",
       "2017-10-16                 0.00               8                      0  ...     \n",
       "2017-10-16                 0.00               5                      0  ...     \n",
       "2017-10-16                 0.00               5                      1  ...     \n",
       "2017-10-16                 0.00               5                      0  ...     \n",
       "2017-10-16                 0.00               5                      0  ...     \n",
       "\n",
       "            geoNetwork.country  geoNetwork.metro  geoNetwork.networkDomain  \\\n",
       "date                                                                         \n",
       "2017-10-16                  48                 0                         0   \n",
       "2017-10-16                 147                27                         0   \n",
       "2017-10-16                 147                 0                      2435   \n",
       "2017-10-16                 141                 0                         0   \n",
       "2017-10-16                  90                 0                      1647   \n",
       "\n",
       "            geoNetwork.region  geoNetwork.subContinent  trafficSource.source  \\\n",
       "date                                                                           \n",
       "2017-10-16                  0                       21                    25   \n",
       "2017-10-16                 18                       12                    70   \n",
       "2017-10-16                  0                       12                     0   \n",
       "2017-10-16                  0                       20                    25   \n",
       "2017-10-16                  0                        3                    25   \n",
       "\n",
       "            customDimensions.index  customDimensions.value  classify_revenue  \\\n",
       "date                                                                           \n",
       "2017-10-16                       4                       3                 0   \n",
       "2017-10-16                       4                       4                 0   \n",
       "2017-10-16                       4                       4                 0   \n",
       "2017-10-16                       4                       3                 0   \n",
       "2017-10-16                       4                       2                 0   \n",
       "\n",
       "           y_pred  \n",
       "date               \n",
       "2017-10-16      0  \n",
       "2017-10-16      0  \n",
       "2017-10-16      0  \n",
       "2017-10-16      0  \n",
       "2017-10-16      0  \n",
       "\n",
       "[5 rows x 23 columns]"
      ]
     },
     "execution_count": 358,
     "metadata": {},
     "output_type": "execute_result"
    }
   ],
   "source": [
    "data.head()"
   ]
  },
  {
   "cell_type": "code",
   "execution_count": 42,
   "metadata": {},
   "outputs": [],
   "source": [
    "reg_data=data[data['y_pred']==1]"
   ]
  },
  {
   "cell_type": "code",
   "execution_count": 43,
   "metadata": {},
   "outputs": [
    {
     "data": {
      "text/html": [
       "<div>\n",
       "<style scoped>\n",
       "    .dataframe tbody tr th:only-of-type {\n",
       "        vertical-align: middle;\n",
       "    }\n",
       "\n",
       "    .dataframe tbody tr th {\n",
       "        vertical-align: top;\n",
       "    }\n",
       "\n",
       "    .dataframe thead th {\n",
       "        text-align: right;\n",
       "    }\n",
       "</style>\n",
       "<table border=\"1\" class=\"dataframe\">\n",
       "  <thead>\n",
       "    <tr style=\"text-align: right;\">\n",
       "      <th></th>\n",
       "      <th>channelGrouping</th>\n",
       "      <th>fullVisitorId</th>\n",
       "      <th>visitNumber</th>\n",
       "      <th>totals_bounces</th>\n",
       "      <th>totals_newVisits</th>\n",
       "      <th>totals_pageviews</th>\n",
       "      <th>totals_transactionRevenue</th>\n",
       "      <th>totals_transactions</th>\n",
       "      <th>device.browser</th>\n",
       "      <th>device.deviceCategory</th>\n",
       "      <th>...</th>\n",
       "      <th>geoNetwork.country</th>\n",
       "      <th>geoNetwork.metro</th>\n",
       "      <th>geoNetwork.networkDomain</th>\n",
       "      <th>geoNetwork.region</th>\n",
       "      <th>geoNetwork.subContinent</th>\n",
       "      <th>trafficSource.source</th>\n",
       "      <th>customDimensions.index</th>\n",
       "      <th>customDimensions.value</th>\n",
       "      <th>classify_revenue</th>\n",
       "      <th>y_pred</th>\n",
       "    </tr>\n",
       "    <tr>\n",
       "      <th>date</th>\n",
       "      <th></th>\n",
       "      <th></th>\n",
       "      <th></th>\n",
       "      <th></th>\n",
       "      <th></th>\n",
       "      <th></th>\n",
       "      <th></th>\n",
       "      <th></th>\n",
       "      <th></th>\n",
       "      <th></th>\n",
       "      <th></th>\n",
       "      <th></th>\n",
       "      <th></th>\n",
       "      <th></th>\n",
       "      <th></th>\n",
       "      <th></th>\n",
       "      <th></th>\n",
       "      <th></th>\n",
       "      <th></th>\n",
       "      <th></th>\n",
       "      <th></th>\n",
       "    </tr>\n",
       "  </thead>\n",
       "  <tbody>\n",
       "    <tr>\n",
       "      <th>2017-10-16</th>\n",
       "      <td>3</td>\n",
       "      <td>9549826748224805897</td>\n",
       "      <td>4.0</td>\n",
       "      <td>0.0</td>\n",
       "      <td>0.0</td>\n",
       "      <td>9.0</td>\n",
       "      <td>15190000.0</td>\n",
       "      <td>1.0</td>\n",
       "      <td>5</td>\n",
       "      <td>0</td>\n",
       "      <td>...</td>\n",
       "      <td>147</td>\n",
       "      <td>19</td>\n",
       "      <td>0</td>\n",
       "      <td>76</td>\n",
       "      <td>12</td>\n",
       "      <td>25</td>\n",
       "      <td>4</td>\n",
       "      <td>4</td>\n",
       "      <td>1</td>\n",
       "      <td>1</td>\n",
       "    </tr>\n",
       "    <tr>\n",
       "      <th>2017-10-16</th>\n",
       "      <td>5</td>\n",
       "      <td>3700714855829972615</td>\n",
       "      <td>11.0</td>\n",
       "      <td>0.0</td>\n",
       "      <td>0.0</td>\n",
       "      <td>12.0</td>\n",
       "      <td>8000000.0</td>\n",
       "      <td>1.0</td>\n",
       "      <td>5</td>\n",
       "      <td>0</td>\n",
       "      <td>...</td>\n",
       "      <td>147</td>\n",
       "      <td>16</td>\n",
       "      <td>0</td>\n",
       "      <td>18</td>\n",
       "      <td>12</td>\n",
       "      <td>0</td>\n",
       "      <td>4</td>\n",
       "      <td>4</td>\n",
       "      <td>1</td>\n",
       "      <td>1</td>\n",
       "    </tr>\n",
       "    <tr>\n",
       "      <th>2017-10-16</th>\n",
       "      <td>3</td>\n",
       "      <td>1572225825161580042</td>\n",
       "      <td>6.0</td>\n",
       "      <td>0.0</td>\n",
       "      <td>0.0</td>\n",
       "      <td>15.0</td>\n",
       "      <td>57300000.0</td>\n",
       "      <td>1.0</td>\n",
       "      <td>19</td>\n",
       "      <td>1</td>\n",
       "      <td>...</td>\n",
       "      <td>147</td>\n",
       "      <td>27</td>\n",
       "      <td>1682</td>\n",
       "      <td>18</td>\n",
       "      <td>12</td>\n",
       "      <td>25</td>\n",
       "      <td>4</td>\n",
       "      <td>4</td>\n",
       "      <td>1</td>\n",
       "      <td>1</td>\n",
       "    </tr>\n",
       "    <tr>\n",
       "      <th>2017-10-16</th>\n",
       "      <td>5</td>\n",
       "      <td>7187192533100162289</td>\n",
       "      <td>17.0</td>\n",
       "      <td>0.0</td>\n",
       "      <td>0.0</td>\n",
       "      <td>16.0</td>\n",
       "      <td>18230000.0</td>\n",
       "      <td>1.0</td>\n",
       "      <td>5</td>\n",
       "      <td>0</td>\n",
       "      <td>...</td>\n",
       "      <td>147</td>\n",
       "      <td>27</td>\n",
       "      <td>0</td>\n",
       "      <td>18</td>\n",
       "      <td>12</td>\n",
       "      <td>0</td>\n",
       "      <td>4</td>\n",
       "      <td>4</td>\n",
       "      <td>1</td>\n",
       "      <td>1</td>\n",
       "    </tr>\n",
       "    <tr>\n",
       "      <th>2017-10-16</th>\n",
       "      <td>5</td>\n",
       "      <td>7889233516776348524</td>\n",
       "      <td>1.0</td>\n",
       "      <td>0.0</td>\n",
       "      <td>1.0</td>\n",
       "      <td>20.0</td>\n",
       "      <td>12310000.0</td>\n",
       "      <td>1.0</td>\n",
       "      <td>5</td>\n",
       "      <td>0</td>\n",
       "      <td>...</td>\n",
       "      <td>147</td>\n",
       "      <td>19</td>\n",
       "      <td>0</td>\n",
       "      <td>76</td>\n",
       "      <td>12</td>\n",
       "      <td>0</td>\n",
       "      <td>4</td>\n",
       "      <td>4</td>\n",
       "      <td>1</td>\n",
       "      <td>1</td>\n",
       "    </tr>\n",
       "  </tbody>\n",
       "</table>\n",
       "<p>5 rows × 23 columns</p>\n",
       "</div>"
      ],
      "text/plain": [
       "            channelGrouping        fullVisitorId  visitNumber  totals_bounces  \\\n",
       "date                                                                            \n",
       "2017-10-16                3  9549826748224805897          4.0             0.0   \n",
       "2017-10-16                5  3700714855829972615         11.0             0.0   \n",
       "2017-10-16                3  1572225825161580042          6.0             0.0   \n",
       "2017-10-16                5  7187192533100162289         17.0             0.0   \n",
       "2017-10-16                5  7889233516776348524          1.0             0.0   \n",
       "\n",
       "            totals_newVisits  totals_pageviews  totals_transactionRevenue  \\\n",
       "date                                                                        \n",
       "2017-10-16               0.0               9.0                 15190000.0   \n",
       "2017-10-16               0.0              12.0                  8000000.0   \n",
       "2017-10-16               0.0              15.0                 57300000.0   \n",
       "2017-10-16               0.0              16.0                 18230000.0   \n",
       "2017-10-16               1.0              20.0                 12310000.0   \n",
       "\n",
       "            totals_transactions  device.browser  device.deviceCategory  ...    \\\n",
       "date                                                                    ...     \n",
       "2017-10-16                  1.0               5                      0  ...     \n",
       "2017-10-16                  1.0               5                      0  ...     \n",
       "2017-10-16                  1.0              19                      1  ...     \n",
       "2017-10-16                  1.0               5                      0  ...     \n",
       "2017-10-16                  1.0               5                      0  ...     \n",
       "\n",
       "            geoNetwork.country  geoNetwork.metro  geoNetwork.networkDomain  \\\n",
       "date                                                                         \n",
       "2017-10-16                 147                19                         0   \n",
       "2017-10-16                 147                16                         0   \n",
       "2017-10-16                 147                27                      1682   \n",
       "2017-10-16                 147                27                         0   \n",
       "2017-10-16                 147                19                         0   \n",
       "\n",
       "            geoNetwork.region  geoNetwork.subContinent  trafficSource.source  \\\n",
       "date                                                                           \n",
       "2017-10-16                 76                       12                    25   \n",
       "2017-10-16                 18                       12                     0   \n",
       "2017-10-16                 18                       12                    25   \n",
       "2017-10-16                 18                       12                     0   \n",
       "2017-10-16                 76                       12                     0   \n",
       "\n",
       "            customDimensions.index  customDimensions.value  classify_revenue  \\\n",
       "date                                                                           \n",
       "2017-10-16                       4                       4                 1   \n",
       "2017-10-16                       4                       4                 1   \n",
       "2017-10-16                       4                       4                 1   \n",
       "2017-10-16                       4                       4                 1   \n",
       "2017-10-16                       4                       4                 1   \n",
       "\n",
       "           y_pred  \n",
       "date               \n",
       "2017-10-16      1  \n",
       "2017-10-16      1  \n",
       "2017-10-16      1  \n",
       "2017-10-16      1  \n",
       "2017-10-16      1  \n",
       "\n",
       "[5 rows x 23 columns]"
      ]
     },
     "execution_count": 43,
     "metadata": {},
     "output_type": "execute_result"
    }
   ],
   "source": [
    "reg_data.head()"
   ]
  },
  {
   "cell_type": "code",
   "execution_count": null,
   "metadata": {},
   "outputs": [],
   "source": []
  },
  {
   "cell_type": "code",
   "execution_count": 44,
   "metadata": {},
   "outputs": [],
   "source": [
    "y=np.log1p(reg_data[\"totals_transactionRevenue\"])\n",
    "X=reg_data.drop([\"totals_transactionRevenue\",\"y_pred\",\"classify_revenue\"],axis=1)"
   ]
  },
  {
   "cell_type": "code",
   "execution_count": 45,
   "metadata": {},
   "outputs": [],
   "source": [
    "X.drop('fullVisitorId', axis=1, inplace=True)"
   ]
  },
  {
   "cell_type": "code",
   "execution_count": 46,
   "metadata": {},
   "outputs": [],
   "source": [
    "X_train_reg, X_test_reg, y_train_reg, y_test_reg = train_test_split(X,y,test_size=.2,random_state=0)"
   ]
  },
  {
   "cell_type": "code",
   "execution_count": 47,
   "metadata": {},
   "outputs": [],
   "source": [
    "sc = MinMaxScaler()\n",
    "X_train_reg = sc.fit_transform(X_train_reg)\n",
    "X_test_reg = sc.transform(X_test_reg)"
   ]
  },
  {
   "cell_type": "markdown",
   "metadata": {},
   "source": [
    "###### Gradient Boosting Regressor"
   ]
  },
  {
   "cell_type": "code",
   "execution_count": 365,
   "metadata": {},
   "outputs": [
    {
     "name": "stdout",
     "output_type": "stream",
     "text": [
      "Parameter grid:\n",
      "{'n_estimators': [2, 5, 10, 20, 50]}\n"
     ]
    },
    {
     "data": {
      "text/plain": [
       "GridSearchCV(cv=5, error_score='raise',\n",
       "       estimator=GradientBoostingRegressor(alpha=0.9, criterion='friedman_mse', init=None,\n",
       "             learning_rate=0.1, loss='ls', max_depth=6,\n",
       "             max_features='sqrt', max_leaf_nodes=None,\n",
       "             min_impurity_decrease=0.0, min_impurity_split=None,\n",
       "             min_samples_leaf=50, min_samples_split=500,\n",
       "             min_weight_fraction_leaf=0.0, n_estimators=100,\n",
       "             presort='auto', random_state=10, subsample=0.8, verbose=0,\n",
       "             warm_start=False),\n",
       "       fit_params=None, iid=True, n_jobs=1,\n",
       "       param_grid={'n_estimators': [2, 5, 10, 20, 50]},\n",
       "       pre_dispatch='2*n_jobs', refit=True, return_train_score=True,\n",
       "       scoring='neg_mean_squared_error', verbose=0)"
      ]
     },
     "execution_count": 365,
     "metadata": {},
     "output_type": "execute_result"
    }
   ],
   "source": [
    "param_grid_gb = {\n",
    "'n_estimators' : [2,5,10,20,50],\n",
    "                  }\n",
    "\n",
    "print(\"Parameter grid:\\n{}\".format(param_grid_gb))\n",
    "\n",
    "grid_search_gb = GridSearchCV(GradientBoostingRegressor(learning_rate=0.1, min_samples_split=500,min_samples_leaf=50,max_depth=6,max_features='sqrt',subsample=0.8,random_state=10), param_grid_gb, cv=5, return_train_score=True, scoring='neg_mean_squared_error')\n",
    "grid_search_gb.fit(X_train_reg,y_train_reg)"
   ]
  },
  {
   "cell_type": "code",
   "execution_count": 181,
   "metadata": {},
   "outputs": [
    {
     "data": {
      "text/plain": [
       "([mean: -7.48463, std: 7.90768, params: {'n_estimators': 2},\n",
       "  mean: -7.49466, std: 7.90336, params: {'n_estimators': 5},\n",
       "  mean: -7.49562, std: 7.93871, params: {'n_estimators': 10},\n",
       "  mean: -7.49171, std: 7.92167, params: {'n_estimators': 20},\n",
       "  mean: -7.47799, std: 7.91010, params: {'n_estimators': 50}],\n",
       " {'n_estimators': 50},\n",
       " -7.477987454946049)"
      ]
     },
     "execution_count": 181,
     "metadata": {},
     "output_type": "execute_result"
    }
   ],
   "source": [
    "grid_search_gb.grid_scores_, grid_search_gb.best_params_, grid_search_gb.best_score_"
   ]
  },
  {
   "cell_type": "code",
   "execution_count": 182,
   "metadata": {},
   "outputs": [
    {
     "name": "stdout",
     "output_type": "stream",
     "text": [
      "Parameter grid:\n",
      "{'max_depth': [3, 7, 10, 15], 'min_samples_split': [100, 300, 500]}\n"
     ]
    },
    {
     "data": {
      "text/plain": [
       "GridSearchCV(cv=5, error_score='raise',\n",
       "       estimator=GradientBoostingRegressor(alpha=0.9, criterion='friedman_mse', init=None,\n",
       "             learning_rate=0.1, loss='ls', max_depth=3,\n",
       "             max_features='sqrt', max_leaf_nodes=None,\n",
       "             min_impurity_decrease=0.0, min_impurity_split=None,\n",
       "             min_samples_leaf=1, min_samples_split=2,\n",
       "             min_weight_fraction_leaf=0.0, n_estimators=50, presort='auto',\n",
       "             random_state=10, subsample=0.8, verbose=0, warm_start=False),\n",
       "       fit_params=None, iid=True, n_jobs=1,\n",
       "       param_grid={'max_depth': [3, 7, 10, 15], 'min_samples_split': [100, 300, 500]},\n",
       "       pre_dispatch='2*n_jobs', refit=True, return_train_score=True,\n",
       "       scoring='neg_mean_squared_error', verbose=0)"
      ]
     },
     "execution_count": 182,
     "metadata": {},
     "output_type": "execute_result"
    }
   ],
   "source": [
    "param_grid_gb = {\n",
    "'max_depth' : [3,7,10,15],\n",
    "'min_samples_split': [100,300,500],\n",
    "                  }\n",
    "\n",
    "print(\"Parameter grid:\\n{}\".format(param_grid_gb))\n",
    "\n",
    "grid_search_gb2 = GridSearchCV(GradientBoostingRegressor(learning_rate=0.1, n_estimators=50, max_features='sqrt', subsample=0.8, random_state=10), param_grid_gb, cv=5, return_train_score=True, scoring='neg_mean_squared_error')\n",
    "grid_search_gb2.fit(X_train_reg,y_train_reg)\n",
    "\n"
   ]
  },
  {
   "cell_type": "code",
   "execution_count": 183,
   "metadata": {},
   "outputs": [
    {
     "data": {
      "text/plain": [
       "([mean: -7.47799, std: 7.91010, params: {'max_depth': 3, 'min_samples_split': 100},\n",
       "  mean: -7.47799, std: 7.91010, params: {'max_depth': 3, 'min_samples_split': 300},\n",
       "  mean: -7.47799, std: 7.91010, params: {'max_depth': 3, 'min_samples_split': 500},\n",
       "  mean: -7.47799, std: 7.91010, params: {'max_depth': 7, 'min_samples_split': 100},\n",
       "  mean: -7.47799, std: 7.91010, params: {'max_depth': 7, 'min_samples_split': 300},\n",
       "  mean: -7.47799, std: 7.91010, params: {'max_depth': 7, 'min_samples_split': 500},\n",
       "  mean: -7.47799, std: 7.91010, params: {'max_depth': 10, 'min_samples_split': 100},\n",
       "  mean: -7.47799, std: 7.91010, params: {'max_depth': 10, 'min_samples_split': 300},\n",
       "  mean: -7.47799, std: 7.91010, params: {'max_depth': 10, 'min_samples_split': 500},\n",
       "  mean: -7.47799, std: 7.91010, params: {'max_depth': 15, 'min_samples_split': 100},\n",
       "  mean: -7.47799, std: 7.91010, params: {'max_depth': 15, 'min_samples_split': 300},\n",
       "  mean: -7.47799, std: 7.91010, params: {'max_depth': 15, 'min_samples_split': 500}],\n",
       " {'max_depth': 3, 'min_samples_split': 100},\n",
       " -7.477987454946049)"
      ]
     },
     "execution_count": 183,
     "metadata": {},
     "output_type": "execute_result"
    }
   ],
   "source": [
    "grid_search_gb2.grid_scores_, grid_search_gb2.best_params_, grid_search_gb2.best_score_"
   ]
  },
  {
   "cell_type": "code",
   "execution_count": 186,
   "metadata": {},
   "outputs": [
    {
     "name": "stdout",
     "output_type": "stream",
     "text": [
      "Parameter grid:\n",
      "{'min_samples_split': [2, 5, 20, 50, 100], 'min_samples_leaf': [20, 30, 50]}\n"
     ]
    },
    {
     "data": {
      "text/plain": [
       "GridSearchCV(cv=5, error_score='raise',\n",
       "       estimator=GradientBoostingRegressor(alpha=0.9, criterion='friedman_mse', init=None,\n",
       "             learning_rate=0.1, loss='ls', max_depth=3,\n",
       "             max_features='sqrt', max_leaf_nodes=None,\n",
       "             min_impurity_decrease=0.0, min_impurity_split=None,\n",
       "             min_samples_leaf=1, min_samples_split=2,\n",
       "             min_weight_fraction_leaf=0.0, n_estimators=50, presort='auto',\n",
       "             random_state=10, subsample=0.8, verbose=0, warm_start=False),\n",
       "       fit_params=None, iid=True, n_jobs=1,\n",
       "       param_grid={'min_samples_split': [2, 5, 20, 50, 100], 'min_samples_leaf': [20, 30, 50]},\n",
       "       pre_dispatch='2*n_jobs', refit=True, return_train_score=True,\n",
       "       scoring='neg_mean_squared_error', verbose=0)"
      ]
     },
     "execution_count": 186,
     "metadata": {},
     "output_type": "execute_result"
    }
   ],
   "source": [
    "param_grid_gb = {\n",
    "'min_samples_split': [2,5,20,50,100],\n",
    "'min_samples_leaf': [20,30,50]\n",
    "                  }\n",
    "\n",
    "print(\"Parameter grid:\\n{}\".format(param_grid_gb))\n",
    "\n",
    "grid_search_gb3 = GridSearchCV(GradientBoostingRegressor(learning_rate=0.1, n_estimators=50, max_features='sqrt', subsample=0.8,max_depth= 3, random_state=10), param_grid_gb, cv=5, return_train_score=True, scoring='neg_mean_squared_error')\n",
    "grid_search_gb3.fit(X_train_reg,y_train_reg)\n"
   ]
  },
  {
   "cell_type": "code",
   "execution_count": 187,
   "metadata": {},
   "outputs": [
    {
     "data": {
      "text/plain": [
       "([mean: -7.24811, std: 7.41081, params: {'min_samples_leaf': 20, 'min_samples_split': 2},\n",
       "  mean: -7.24811, std: 7.41081, params: {'min_samples_leaf': 20, 'min_samples_split': 5},\n",
       "  mean: -7.24811, std: 7.41081, params: {'min_samples_leaf': 20, 'min_samples_split': 20},\n",
       "  mean: -7.32895, std: 7.45294, params: {'min_samples_leaf': 20, 'min_samples_split': 50},\n",
       "  mean: -7.47799, std: 7.91010, params: {'min_samples_leaf': 20, 'min_samples_split': 100},\n",
       "  mean: -7.53269, std: 7.79719, params: {'min_samples_leaf': 30, 'min_samples_split': 2},\n",
       "  mean: -7.53269, std: 7.79719, params: {'min_samples_leaf': 30, 'min_samples_split': 5},\n",
       "  mean: -7.53269, std: 7.79719, params: {'min_samples_leaf': 30, 'min_samples_split': 20},\n",
       "  mean: -7.53269, std: 7.79719, params: {'min_samples_leaf': 30, 'min_samples_split': 50},\n",
       "  mean: -7.47799, std: 7.91010, params: {'min_samples_leaf': 30, 'min_samples_split': 100},\n",
       "  mean: -7.47799, std: 7.91010, params: {'min_samples_leaf': 50, 'min_samples_split': 2},\n",
       "  mean: -7.47799, std: 7.91010, params: {'min_samples_leaf': 50, 'min_samples_split': 5},\n",
       "  mean: -7.47799, std: 7.91010, params: {'min_samples_leaf': 50, 'min_samples_split': 20},\n",
       "  mean: -7.47799, std: 7.91010, params: {'min_samples_leaf': 50, 'min_samples_split': 50},\n",
       "  mean: -7.47799, std: 7.91010, params: {'min_samples_leaf': 50, 'min_samples_split': 100}],\n",
       " {'min_samples_leaf': 20, 'min_samples_split': 2},\n",
       " -7.248107811112504)"
      ]
     },
     "execution_count": 187,
     "metadata": {},
     "output_type": "execute_result"
    }
   ],
   "source": [
    "grid_search_gb3.grid_scores_, grid_search_gb3.best_params_, grid_search_gb3.best_score_"
   ]
  },
  {
   "cell_type": "code",
   "execution_count": 188,
   "metadata": {},
   "outputs": [
    {
     "name": "stdout",
     "output_type": "stream",
     "text": [
      "Parameter grid:\n",
      "{'max_features': [5, 10, 15, 'sqrt', 'log2', 'auto']}\n"
     ]
    },
    {
     "data": {
      "text/plain": [
       "GridSearchCV(cv=5, error_score='raise',\n",
       "       estimator=GradientBoostingRegressor(alpha=0.9, criterion='friedman_mse', init=None,\n",
       "             learning_rate=0.1, loss='ls', max_depth=3, max_features=None,\n",
       "             max_leaf_nodes=None, min_impurity_decrease=0.0,\n",
       "             min_impurity_split=None, min_samples_leaf=20,\n",
       "             min_samples_split=2, min_weight_fraction_leaf=0.0,\n",
       "             n_estimators=50, presort='auto', random_state=10,\n",
       "             subsample=0.8, verbose=0, warm_start=False),\n",
       "       fit_params=None, iid=True, n_jobs=1,\n",
       "       param_grid={'max_features': [5, 10, 15, 'sqrt', 'log2', 'auto']},\n",
       "       pre_dispatch='2*n_jobs', refit=True, return_train_score=True,\n",
       "       scoring='neg_mean_squared_error', verbose=0)"
      ]
     },
     "execution_count": 188,
     "metadata": {},
     "output_type": "execute_result"
    }
   ],
   "source": [
    "param_grid_gb = {\n",
    "'max_features':[5,10,15,'sqrt','log2','auto']\n",
    "                  }\n",
    "\n",
    "print(\"Parameter grid:\\n{}\".format(param_grid_gb))\n",
    "\n",
    "grid_search_gb4 = GridSearchCV(GradientBoostingRegressor(learning_rate=0.1, n_estimators=50, subsample=0.8,max_depth= 3,min_samples_leaf=20,min_samples_split=2, random_state=10), param_grid_gb, cv=5, return_train_score=True,scoring='neg_mean_squared_error')\n",
    "grid_search_gb4.fit(X_train_reg,y_train_reg)\n"
   ]
  },
  {
   "cell_type": "code",
   "execution_count": 189,
   "metadata": {},
   "outputs": [
    {
     "data": {
      "text/plain": [
       "([mean: -7.40301, std: 7.54504, params: {'max_features': 5},\n",
       "  mean: -7.40885, std: 7.46987, params: {'max_features': 10},\n",
       "  mean: -7.31385, std: 7.53190, params: {'max_features': 15},\n",
       "  mean: -7.24811, std: 7.41081, params: {'max_features': 'sqrt'},\n",
       "  mean: -7.24811, std: 7.41081, params: {'max_features': 'log2'},\n",
       "  mean: -7.41900, std: 7.46550, params: {'max_features': 'auto'}],\n",
       " {'max_features': 'sqrt'},\n",
       " -7.248107811112504)"
      ]
     },
     "execution_count": 189,
     "metadata": {},
     "output_type": "execute_result"
    }
   ],
   "source": [
    "grid_search_gb4.grid_scores_, grid_search_gb4.best_params_, grid_search_gb4.best_score_"
   ]
  },
  {
   "cell_type": "code",
   "execution_count": 190,
   "metadata": {},
   "outputs": [
    {
     "name": "stdout",
     "output_type": "stream",
     "text": [
      "Parameter grid:\n",
      "{'subsample': [0.6, 0.7, 0.8, 0.9]}\n"
     ]
    },
    {
     "data": {
      "text/plain": [
       "GridSearchCV(cv=5, error_score='raise',\n",
       "       estimator=GradientBoostingRegressor(alpha=0.9, criterion='friedman_mse', init=None,\n",
       "             learning_rate=0.1, loss='ls', max_depth=3,\n",
       "             max_features='sqrt', max_leaf_nodes=None,\n",
       "             min_impurity_decrease=0.0, min_impurity_split=None,\n",
       "             min_samples_leaf=20, min_samples_split=5,\n",
       "             min_weight_fraction_leaf=0.0, n_estimators=50, presort='auto',\n",
       "             random_state=10, subsample=1.0, verbose=0, warm_start=False),\n",
       "       fit_params=None, iid=True, n_jobs=1,\n",
       "       param_grid={'subsample': [0.6, 0.7, 0.8, 0.9]},\n",
       "       pre_dispatch='2*n_jobs', refit=True, return_train_score=True,\n",
       "       scoring='neg_mean_squared_error', verbose=0)"
      ]
     },
     "execution_count": 190,
     "metadata": {},
     "output_type": "execute_result"
    }
   ],
   "source": [
    "param_grid_gb = {\n",
    "'subsample':[0.6,0.7,0.8,0.9]\n",
    "                  }\n",
    "\n",
    "print(\"Parameter grid:\\n{}\".format(param_grid_gb))\n",
    "\n",
    "grid_search_gb5 = GridSearchCV(GradientBoostingRegressor(learning_rate=0.1, n_estimators=50, max_depth= 3,min_samples_leaf=20,min_samples_split=5, max_features='sqrt',random_state=10), param_grid_gb, cv=5, return_train_score=True, scoring='neg_mean_squared_error')\n",
    "grid_search_gb5.fit(X_train_reg,y_train_reg)\n"
   ]
  },
  {
   "cell_type": "code",
   "execution_count": 191,
   "metadata": {},
   "outputs": [
    {
     "data": {
      "text/plain": [
       "([mean: -7.51731, std: 7.74566, params: {'subsample': 0.6},\n",
       "  mean: -7.36003, std: 7.62991, params: {'subsample': 0.7},\n",
       "  mean: -7.24811, std: 7.41081, params: {'subsample': 0.8},\n",
       "  mean: -7.27143, std: 7.43371, params: {'subsample': 0.9}],\n",
       " {'subsample': 0.8},\n",
       " -7.248107811112504)"
      ]
     },
     "execution_count": 191,
     "metadata": {},
     "output_type": "execute_result"
    }
   ],
   "source": [
    "grid_search_gb5.grid_scores_, grid_search_gb5.best_params_, grid_search_gb5.best_score_"
   ]
  },
  {
   "cell_type": "code",
   "execution_count": 192,
   "metadata": {},
   "outputs": [
    {
     "name": "stdout",
     "output_type": "stream",
     "text": [
      "Parameter grid:\n",
      "{'learning_rate': [0.05, 0.1, 0.2]}\n"
     ]
    },
    {
     "data": {
      "text/plain": [
       "GridSearchCV(cv=5, error_score='raise',\n",
       "       estimator=GradientBoostingRegressor(alpha=0.9, criterion='friedman_mse', init=None,\n",
       "             learning_rate=0.1, loss='ls', max_depth=3,\n",
       "             max_features='sqrt', max_leaf_nodes=None,\n",
       "             min_impurity_decrease=0.0, min_impurity_split=None,\n",
       "             min_samples_leaf=20, min_samples_split=5,\n",
       "             min_weight_fraction_leaf=0.0, n_estimators=50, presort='auto',\n",
       "             random_state=10, subsample=0.8, verbose=0, warm_start=False),\n",
       "       fit_params=None, iid=True, n_jobs=1,\n",
       "       param_grid={'learning_rate': [0.05, 0.1, 0.2]},\n",
       "       pre_dispatch='2*n_jobs', refit=True, return_train_score=True,\n",
       "       scoring='neg_mean_squared_error', verbose=0)"
      ]
     },
     "execution_count": 192,
     "metadata": {},
     "output_type": "execute_result"
    }
   ],
   "source": [
    "param_grid_gb = {\n",
    "'learning_rate':[0.05,0.1,0.2]  }\n",
    "\n",
    "print(\"Parameter grid:\\n{}\".format(param_grid_gb))\n",
    "\n",
    "grid_search_gb6 = GridSearchCV(GradientBoostingRegressor(n_estimators=50, subsample=0.8,max_depth= 3,min_samples_leaf=20,min_samples_split=5,max_features='sqrt', random_state=10), param_grid_gb, cv=5, return_train_score=True, scoring='neg_mean_squared_error')\n",
    "grid_search_gb6.fit(X_train_reg,y_train_reg)\n"
   ]
  },
  {
   "cell_type": "code",
   "execution_count": 193,
   "metadata": {},
   "outputs": [
    {
     "data": {
      "text/plain": [
       "([mean: -7.31669, std: 7.68090, params: {'learning_rate': 0.05},\n",
       "  mean: -7.24811, std: 7.41081, params: {'learning_rate': 0.1},\n",
       "  mean: -7.43860, std: 7.15354, params: {'learning_rate': 0.2}],\n",
       " {'learning_rate': 0.1},\n",
       " -7.248107811112504)"
      ]
     },
     "execution_count": 193,
     "metadata": {},
     "output_type": "execute_result"
    }
   ],
   "source": [
    "grid_search_gb6.grid_scores_, grid_search_gb6.best_params_, grid_search_gb6.best_score_"
   ]
  },
  {
   "cell_type": "markdown",
   "metadata": {},
   "source": [
    "###### Fit the model with optimum parameters selected"
   ]
  },
  {
   "cell_type": "code",
   "execution_count": 48,
   "metadata": {
    "scrolled": true
   },
   "outputs": [
    {
     "data": {
      "text/plain": [
       "GradientBoostingRegressor(alpha=0.9, criterion='friedman_mse', init=None,\n",
       "             learning_rate=0.1, loss='ls', max_depth=3,\n",
       "             max_features='sqrt', max_leaf_nodes=None,\n",
       "             min_impurity_decrease=0.0, min_impurity_split=None,\n",
       "             min_samples_leaf=20, min_samples_split=5,\n",
       "             min_weight_fraction_leaf=0.0, n_estimators=50, presort='auto',\n",
       "             random_state=10, subsample=0.8, verbose=0, warm_start=False)"
      ]
     },
     "execution_count": 48,
     "metadata": {},
     "output_type": "execute_result"
    }
   ],
   "source": [
    "gbrt=GradientBoostingRegressor(learning_rate=0.1, n_estimators=50, subsample=0.8,max_depth= 3,min_samples_leaf=20,min_samples_split=5,max_features='sqrt', random_state=10)\n",
    " \n",
    "gbrt.fit(X_train_reg, y_train_reg) "
   ]
  },
  {
   "cell_type": "code",
   "execution_count": 367,
   "metadata": {},
   "outputs": [
    {
     "data": {
      "text/plain": [
       "0.19703663773097135"
      ]
     },
     "execution_count": 367,
     "metadata": {},
     "output_type": "execute_result"
    }
   ],
   "source": [
    "gbrt.train_score_ \n",
    "gbrt.loss_\n",
    "gbrt.score(X_train_reg, y_train_reg) "
   ]
  },
  {
   "cell_type": "code",
   "execution_count": 368,
   "metadata": {},
   "outputs": [
    {
     "data": {
      "text/plain": [
       "-0.29143320880808754"
      ]
     },
     "execution_count": 368,
     "metadata": {},
     "output_type": "execute_result"
    }
   ],
   "source": [
    "gbrt.score(X_test_reg, y_test_reg) "
   ]
  },
  {
   "cell_type": "code",
   "execution_count": 197,
   "metadata": {},
   "outputs": [
    {
     "data": {
      "image/png": "[encoded data removed]",
      "text/plain": [
       "<Figure size 1440x720 with 1 Axes>"
      ]
     },
     "metadata": {},
     "output_type": "display_data"
    },
    {
     "data": {
      "text/plain": [
       "<Figure size 432x288 with 0 Axes>"
      ]
     },
     "metadata": {},
     "output_type": "display_data"
    }
   ],
   "source": [
    "feature_imp_gbrt = pd.DataFrame(sorted(zip(gbrt.feature_importances_,X.columns)), columns=['Value','Feature'])\n",
    "\n",
    "plt.figure(figsize=(20, 10))\n",
    "sns.barplot(x=\"Value\", y=\"Feature\", data=feature_imp_gbrt.sort_values(by=\"Value\", ascending=False).head(10))\n",
    "plt.title('GradientBoostingRegressor Features')\n",
    "plt.tight_layout()\n",
    "plt.show()\n",
    "plt.savefig('gbrt_importances-01.png')"
   ]
  },
  {
   "cell_type": "code",
   "execution_count": 49,
   "metadata": {
    "scrolled": false
   },
   "outputs": [
    {
     "name": "stdout",
     "output_type": "stream",
     "text": [
      "RMSE:1.4778443886415582\n",
      "r2 Score:-0.29143320880808754\n",
      "explained variance score:-0.1121528803505456\n"
     ]
    }
   ],
   "source": [
    "# Evaluation of gbrt\n",
    "y_pred_gbrt=gbrt.predict(X_test_reg) \n",
    "rms_gbrt = np.sqrt(mean_squared_error(y_test_reg, y_pred_gbrt)) \n",
    "print(\"RMSE:{e}\".format(e=rms_gbrt))\n",
    "print(\"r2 Score:{}\".format(r2_score(y_test_reg, y_pred_gbrt)))\n",
    "print(\"explained variance score:{}\".format(explained_variance_score(y_test_reg, y_pred_gbrt)))"
   ]
  },
  {
   "cell_type": "markdown",
   "metadata": {},
   "source": [
    "###### Random Forest Regressor"
   ]
  },
  {
   "cell_type": "code",
   "execution_count": 406,
   "metadata": {
    "scrolled": true
   },
   "outputs": [
    {
     "name": "stdout",
     "output_type": "stream",
     "text": [
      "Parameter grid:\n",
      "{'n_estimators': [100, 200, 500], 'max_depth': [5, 10, 15], 'max_features': [5, 10, 15, 'sqrt', 'log2', 'auto'], 'max_leaf_nodes': [10, 20, 50, 100]}\n"
     ]
    },
    {
     "data": {
      "text/plain": [
       "GridSearchCV(cv=5, error_score='raise',\n",
       "       estimator=RandomForestRegressor(bootstrap=True, criterion='mse', max_depth=5,\n",
       "           max_features='sqrt', max_leaf_nodes=5,\n",
       "           min_impurity_decrease=0.0, min_impurity_split=None,\n",
       "           min_samples_leaf=1, min_samples_split=2,\n",
       "           min_weight_fraction_leaf=0.0, n_estimators=10, n_jobs=1,\n",
       "           oob_score=False, random_state=None, verbose=0, warm_start=False),\n",
       "       fit_params=None, iid=True, n_jobs=1,\n",
       "       param_grid={'n_estimators': [100, 200, 500], 'max_depth': [5, 10, 15], 'max_features': [5, 10, 15, 'sqrt', 'log2', 'auto'], 'max_leaf_nodes': [10, 20, 50, 100]},\n",
       "       pre_dispatch='2*n_jobs', refit=True, return_train_score=True,\n",
       "       scoring='neg_mean_squared_error', verbose=0)"
      ]
     },
     "execution_count": 406,
     "metadata": {},
     "output_type": "execute_result"
    }
   ],
   "source": [
    "#random forest\n",
    "param_grid_rf = {\n",
    "                   'n_estimators':[100,200,500],\n",
    "     'max_depth': [5,10,15],\n",
    "    \n",
    "                  'max_features': [5,10,15,'sqrt','log2','auto'],\n",
    "    'max_leaf_nodes': [10,20,50,100]\n",
    "                 \n",
    "                  }\n",
    "              \n",
    "print(\"Parameter grid:\\n{}\".format(param_grid_rf))\n",
    "\n",
    "grid_search_rf = GridSearchCV(RandomForestRegressor(criterion= 'mse', max_depth= 5, max_features= 'sqrt', max_leaf_nodes= 5), param_grid_rf, cv=5, return_train_score=True, scoring='neg_mean_squared_error')\n",
    "grid_search_rf.fit(X_train_reg,y_train_reg)\n"
   ]
  },
  {
   "cell_type": "code",
   "execution_count": 408,
   "metadata": {
    "scrolled": true
   },
   "outputs": [
    {
     "data": {
      "text/plain": [
       "({'max_depth': 5,\n",
       "  'max_features': 'log2',\n",
       "  'max_leaf_nodes': 10,\n",
       "  'n_estimators': 200},\n",
       " -7.303373433898766)"
      ]
     },
     "execution_count": 408,
     "metadata": {},
     "output_type": "execute_result"
    }
   ],
   "source": [
    "grid_search_rf.best_params_, grid_search_rf.best_score_"
   ]
  },
  {
   "cell_type": "code",
   "execution_count": 423,
   "metadata": {
    "scrolled": true
   },
   "outputs": [
    {
     "name": "stdout",
     "output_type": "stream",
     "text": [
      "Parameter grid:\n",
      "{'n_estimators': [100, 200, 500], 'max_depth': [5, 10, 15], 'max_features': [5, 10, 15, 'sqrt', 'log2', 'auto'], 'max_leaf_nodes': [10, 20, 50, 100]}\n"
     ]
    },
    {
     "data": {
      "text/plain": [
       "GridSearchCV(cv=5, error_score='raise',\n",
       "       estimator=RandomForestRegressor(bootstrap=True, criterion='mse', max_depth=5,\n",
       "           max_features='log2', max_leaf_nodes=10,\n",
       "           min_impurity_decrease=0.0, min_impurity_split=None,\n",
       "           min_samples_leaf=1, min_samples_split=2,\n",
       "           min_weight_fraction_leaf=0.0, n_estimators=200, n_jobs=1,\n",
       "           oob_score=False, random_state=None, verbose=0, warm_start=False),\n",
       "       fit_params=None, iid=True, n_jobs=1,\n",
       "       param_grid={'min_samples_leaf': [10, 20, 50], 'min_samples_split': [10, 20, 50]},\n",
       "       pre_dispatch='2*n_jobs', refit=True, return_train_score=True,\n",
       "       scoring='neg_mean_squared_error', verbose=0)"
      ]
     },
     "execution_count": 423,
     "metadata": {},
     "output_type": "execute_result"
    }
   ],
   "source": [
    "#random forest\n",
    "param_grid_rf2 = {'min_samples_leaf':[10,20,50], 'min_samples_split':[10,20,50]\n",
    "                 \n",
    "                  }\n",
    "              \n",
    "print(\"Parameter grid:\\n{}\".format(param_grid_rf))\n",
    "\n",
    "grid_search_rf2 = GridSearchCV(RandomForestRegressor(criterion= 'mse', max_depth= 5, max_features= 'log2', max_leaf_nodes= 10,n_estimators=200), param_grid_rf2, cv=5, return_train_score=True, scoring='neg_mean_squared_error')\n",
    "grid_search_rf2.fit(X_train_reg,y_train_reg)\n"
   ]
  },
  {
   "cell_type": "code",
   "execution_count": 424,
   "metadata": {
    "scrolled": true
   },
   "outputs": [
    {
     "data": {
      "text/plain": [
       "({'min_samples_leaf': 10, 'min_samples_split': 10}, -7.257203737460263)"
      ]
     },
     "execution_count": 424,
     "metadata": {},
     "output_type": "execute_result"
    }
   ],
   "source": [
    "grid_search_rf2.best_params_, grid_search_rf2.best_score_"
   ]
  },
  {
   "cell_type": "markdown",
   "metadata": {},
   "source": [
    "###### Fit model with best parameters"
   ]
  },
  {
   "cell_type": "code",
   "execution_count": 51,
   "metadata": {},
   "outputs": [
    {
     "data": {
      "text/plain": [
       "RandomForestRegressor(bootstrap=True, criterion='mse', max_depth=5,\n",
       "           max_features='log2', max_leaf_nodes=10,\n",
       "           min_impurity_decrease=0.0, min_impurity_split=None,\n",
       "           min_samples_leaf=10, min_samples_split=10,\n",
       "           min_weight_fraction_leaf=0.0, n_estimators=200, n_jobs=1,\n",
       "           oob_score=False, random_state=10, verbose=0, warm_start=False)"
      ]
     },
     "execution_count": 51,
     "metadata": {},
     "output_type": "execute_result"
    }
   ],
   "source": [
    "rf = RandomForestRegressor(criterion= 'mse',  max_depth=5, n_estimators= 200,max_features= 'log2', max_leaf_nodes= 10,min_samples_leaf=10, min_samples_split=10,random_state=10) \n",
    "rf.fit(X_train_reg, y_train_reg)"
   ]
  },
  {
   "cell_type": "code",
   "execution_count": 426,
   "metadata": {},
   "outputs": [
    {
     "data": {
      "text/plain": [
       "0.11148056921742189"
      ]
     },
     "execution_count": 426,
     "metadata": {},
     "output_type": "execute_result"
    }
   ],
   "source": [
    "rf.score(X_train_reg, y_train_reg) "
   ]
  },
  {
   "cell_type": "code",
   "execution_count": 427,
   "metadata": {},
   "outputs": [
    {
     "data": {
      "text/plain": [
       "-0.19184789381588874"
      ]
     },
     "execution_count": 427,
     "metadata": {},
     "output_type": "execute_result"
    }
   ],
   "source": [
    "rf.score(X_test_reg, y_test_reg)"
   ]
  },
  {
   "cell_type": "code",
   "execution_count": 428,
   "metadata": {},
   "outputs": [
    {
     "name": "stdout",
     "output_type": "stream",
     "text": [
      "[0.05442935 0.10052768 0.         0.04320887 0.23544416 0.\n",
      " 0.00095735 0.00030136 0.13924683 0.12647964 0.         0.\n",
      " 0.07668092 0.13112333 0.0446295  0.         0.01197103 0.\n",
      " 0.        ]\n"
     ]
    }
   ],
   "source": [
    "print(rf.feature_importances_)"
   ]
  },
  {
   "cell_type": "code",
   "execution_count": 52,
   "metadata": {},
   "outputs": [
    {
     "name": "stdout",
     "output_type": "stream",
     "text": [
      "RMSE:17.140997536872526\n",
      "r2 Score:-28960.61721637713\n",
      "explained variance score:-3.931806865768385\n"
     ]
    }
   ],
   "source": [
    "# Evaluation of rf\n",
    "\n",
    "y_pred = rf.predict(X_test)\n",
    "rms_rf = np.sqrt(mean_squared_error(y_test, y_pred)) \n",
    "print(\"RMSE:{e}\".format(e=rms_rf))\n",
    "print(\"r2 Score:{}\".format(r2_score(y_test, y_pred)))\n",
    "print(\"explained variance score:{}\".format(explained_variance_score(y_test, y_pred)))"
   ]
  },
  {
   "cell_type": "code",
   "execution_count": 432,
   "metadata": {},
   "outputs": [
    {
     "name": "stdout",
     "output_type": "stream",
     "text": [
      "RMSE:1.4778443886415582\n",
      "r2 Score:-0.29143320880808754\n",
      "explained variance score:-0.1121528803505456\n"
     ]
    }
   ],
   "source": [
    "# Evaluation of gbrt\n",
    "y_pred_gbrt=gbrt.predict(X_test_reg) \n",
    "rms_gbrt = np.sqrt(mean_squared_error(y_test_reg, y_pred_gbrt))  \n",
    "print(\"RMSE:{e}\".format(e=rms_gbrt))\n",
    "print(\"r2 Score:{}\".format(r2_score(y_test_reg, y_pred_gbrt)))\n",
    "print(\"explained variance score:{}\".format(explained_variance_score(y_test_reg, y_pred_gbrt)))"
   ]
  },
  {
   "cell_type": "markdown",
   "metadata": {},
   "source": [
    "###### Gradient Boosting Model has lesser RMSE value compared to Random Forest Model. Thus we prefer Gradient Boosting Model over Random Forest. "
   ]
  },
  {
   "cell_type": "markdown",
   "metadata": {},
   "source": [
    "## Aggrerate Results"
   ]
  },
  {
   "cell_type": "code",
   "execution_count": 53,
   "metadata": {},
   "outputs": [],
   "source": [
    "pd.set_option('display.float_format', '{:.2f}'.format)"
   ]
  },
  {
   "cell_type": "code",
   "execution_count": 54,
   "metadata": {},
   "outputs": [],
   "source": [
    "y_pred_revenue=gbrt.predict(X) "
   ]
  },
  {
   "cell_type": "code",
   "execution_count": 201,
   "metadata": {},
   "outputs": [
    {
     "data": {
      "text/plain": [
       "(193,)"
      ]
     },
     "execution_count": 201,
     "metadata": {},
     "output_type": "execute_result"
    }
   ],
   "source": [
    "y_pred_revenue.shape"
   ]
  },
  {
   "cell_type": "code",
   "execution_count": 55,
   "metadata": {},
   "outputs": [],
   "source": [
    "data.loc[data['y_pred'] == 0, 'predicted_revenue'] = 0"
   ]
  },
  {
   "cell_type": "code",
   "execution_count": 56,
   "metadata": {},
   "outputs": [],
   "source": [
    "data.loc[data['y_pred'] == 1, 'predicted_revenue'] = np.expm1(y_pred_revenue)"
   ]
  },
  {
   "cell_type": "code",
   "execution_count": 295,
   "metadata": {},
   "outputs": [
    {
     "data": {
      "text/html": [
       "<div>\n",
       "<style scoped>\n",
       "    .dataframe tbody tr th:only-of-type {\n",
       "        vertical-align: middle;\n",
       "    }\n",
       "\n",
       "    .dataframe tbody tr th {\n",
       "        vertical-align: top;\n",
       "    }\n",
       "\n",
       "    .dataframe thead th {\n",
       "        text-align: right;\n",
       "    }\n",
       "</style>\n",
       "<table border=\"1\" class=\"dataframe\">\n",
       "  <thead>\n",
       "    <tr style=\"text-align: right;\">\n",
       "      <th></th>\n",
       "      <th>index</th>\n",
       "      <th>channelGrouping</th>\n",
       "      <th>visitNumber</th>\n",
       "      <th>totals_bounces</th>\n",
       "      <th>totals_newVisits</th>\n",
       "      <th>totals_pageviews</th>\n",
       "      <th>totals_transactionRevenue</th>\n",
       "      <th>totals_transactions</th>\n",
       "      <th>device.browser</th>\n",
       "      <th>device.deviceCategory</th>\n",
       "      <th>...</th>\n",
       "      <th>geoNetwork.metro</th>\n",
       "      <th>geoNetwork.networkDomain</th>\n",
       "      <th>geoNetwork.region</th>\n",
       "      <th>geoNetwork.subContinent</th>\n",
       "      <th>trafficSource.source</th>\n",
       "      <th>customDimensions.index</th>\n",
       "      <th>customDimensions.value</th>\n",
       "      <th>classify_revenue</th>\n",
       "      <th>y_pred</th>\n",
       "      <th>predicted_revenue</th>\n",
       "    </tr>\n",
       "    <tr>\n",
       "      <th>date</th>\n",
       "      <th></th>\n",
       "      <th></th>\n",
       "      <th></th>\n",
       "      <th></th>\n",
       "      <th></th>\n",
       "      <th></th>\n",
       "      <th></th>\n",
       "      <th></th>\n",
       "      <th></th>\n",
       "      <th></th>\n",
       "      <th></th>\n",
       "      <th></th>\n",
       "      <th></th>\n",
       "      <th></th>\n",
       "      <th></th>\n",
       "      <th></th>\n",
       "      <th></th>\n",
       "      <th></th>\n",
       "      <th></th>\n",
       "      <th></th>\n",
       "      <th></th>\n",
       "    </tr>\n",
       "  </thead>\n",
       "  <tbody>\n",
       "    <tr>\n",
       "      <th>2017-10-16</th>\n",
       "      <td>0</td>\n",
       "      <td>3</td>\n",
       "      <td>1.00</td>\n",
       "      <td>1.00</td>\n",
       "      <td>1.00</td>\n",
       "      <td>1.00</td>\n",
       "      <td>0.00</td>\n",
       "      <td>0.00</td>\n",
       "      <td>8</td>\n",
       "      <td>0</td>\n",
       "      <td>...</td>\n",
       "      <td>0</td>\n",
       "      <td>0</td>\n",
       "      <td>0</td>\n",
       "      <td>21</td>\n",
       "      <td>25</td>\n",
       "      <td>4</td>\n",
       "      <td>3</td>\n",
       "      <td>0</td>\n",
       "      <td>0</td>\n",
       "      <td>0.00</td>\n",
       "    </tr>\n",
       "    <tr>\n",
       "      <th>2017-10-16</th>\n",
       "      <td>1</td>\n",
       "      <td>5</td>\n",
       "      <td>6.00</td>\n",
       "      <td>0.00</td>\n",
       "      <td>0.00</td>\n",
       "      <td>2.00</td>\n",
       "      <td>0.00</td>\n",
       "      <td>0.00</td>\n",
       "      <td>5</td>\n",
       "      <td>0</td>\n",
       "      <td>...</td>\n",
       "      <td>27</td>\n",
       "      <td>0</td>\n",
       "      <td>18</td>\n",
       "      <td>12</td>\n",
       "      <td>70</td>\n",
       "      <td>4</td>\n",
       "      <td>4</td>\n",
       "      <td>0</td>\n",
       "      <td>0</td>\n",
       "      <td>0.00</td>\n",
       "    </tr>\n",
       "    <tr>\n",
       "      <th>2017-10-16</th>\n",
       "      <td>2</td>\n",
       "      <td>1</td>\n",
       "      <td>1.00</td>\n",
       "      <td>0.00</td>\n",
       "      <td>1.00</td>\n",
       "      <td>2.00</td>\n",
       "      <td>0.00</td>\n",
       "      <td>0.00</td>\n",
       "      <td>5</td>\n",
       "      <td>1</td>\n",
       "      <td>...</td>\n",
       "      <td>0</td>\n",
       "      <td>2435</td>\n",
       "      <td>0</td>\n",
       "      <td>12</td>\n",
       "      <td>0</td>\n",
       "      <td>4</td>\n",
       "      <td>4</td>\n",
       "      <td>0</td>\n",
       "      <td>0</td>\n",
       "      <td>0.00</td>\n",
       "    </tr>\n",
       "    <tr>\n",
       "      <th>2017-10-16</th>\n",
       "      <td>3</td>\n",
       "      <td>3</td>\n",
       "      <td>1.00</td>\n",
       "      <td>0.00</td>\n",
       "      <td>1.00</td>\n",
       "      <td>2.00</td>\n",
       "      <td>0.00</td>\n",
       "      <td>0.00</td>\n",
       "      <td>5</td>\n",
       "      <td>0</td>\n",
       "      <td>...</td>\n",
       "      <td>0</td>\n",
       "      <td>0</td>\n",
       "      <td>0</td>\n",
       "      <td>20</td>\n",
       "      <td>25</td>\n",
       "      <td>4</td>\n",
       "      <td>3</td>\n",
       "      <td>0</td>\n",
       "      <td>0</td>\n",
       "      <td>0.00</td>\n",
       "    </tr>\n",
       "    <tr>\n",
       "      <th>2017-10-16</th>\n",
       "      <td>4</td>\n",
       "      <td>3</td>\n",
       "      <td>1.00</td>\n",
       "      <td>0.00</td>\n",
       "      <td>1.00</td>\n",
       "      <td>2.00</td>\n",
       "      <td>0.00</td>\n",
       "      <td>0.00</td>\n",
       "      <td>5</td>\n",
       "      <td>0</td>\n",
       "      <td>...</td>\n",
       "      <td>0</td>\n",
       "      <td>1647</td>\n",
       "      <td>0</td>\n",
       "      <td>3</td>\n",
       "      <td>25</td>\n",
       "      <td>4</td>\n",
       "      <td>2</td>\n",
       "      <td>0</td>\n",
       "      <td>0</td>\n",
       "      <td>0.00</td>\n",
       "    </tr>\n",
       "  </tbody>\n",
       "</table>\n",
       "<p>5 rows × 24 columns</p>\n",
       "</div>"
      ],
      "text/plain": [
       "            index  channelGrouping  visitNumber  totals_bounces  \\\n",
       "date                                                              \n",
       "2017-10-16      0                3         1.00            1.00   \n",
       "2017-10-16      1                5         6.00            0.00   \n",
       "2017-10-16      2                1         1.00            0.00   \n",
       "2017-10-16      3                3         1.00            0.00   \n",
       "2017-10-16      4                3         1.00            0.00   \n",
       "\n",
       "            totals_newVisits  totals_pageviews  totals_transactionRevenue  \\\n",
       "date                                                                        \n",
       "2017-10-16              1.00              1.00                       0.00   \n",
       "2017-10-16              0.00              2.00                       0.00   \n",
       "2017-10-16              1.00              2.00                       0.00   \n",
       "2017-10-16              1.00              2.00                       0.00   \n",
       "2017-10-16              1.00              2.00                       0.00   \n",
       "\n",
       "            totals_transactions  device.browser  device.deviceCategory  \\\n",
       "date                                                                     \n",
       "2017-10-16                 0.00               8                      0   \n",
       "2017-10-16                 0.00               5                      0   \n",
       "2017-10-16                 0.00               5                      1   \n",
       "2017-10-16                 0.00               5                      0   \n",
       "2017-10-16                 0.00               5                      0   \n",
       "\n",
       "                  ...         geoNetwork.metro  geoNetwork.networkDomain  \\\n",
       "date              ...                                                      \n",
       "2017-10-16        ...                        0                         0   \n",
       "2017-10-16        ...                       27                         0   \n",
       "2017-10-16        ...                        0                      2435   \n",
       "2017-10-16        ...                        0                         0   \n",
       "2017-10-16        ...                        0                      1647   \n",
       "\n",
       "            geoNetwork.region  geoNetwork.subContinent  trafficSource.source  \\\n",
       "date                                                                           \n",
       "2017-10-16                  0                       21                    25   \n",
       "2017-10-16                 18                       12                    70   \n",
       "2017-10-16                  0                       12                     0   \n",
       "2017-10-16                  0                       20                    25   \n",
       "2017-10-16                  0                        3                    25   \n",
       "\n",
       "            customDimensions.index  customDimensions.value  classify_revenue  \\\n",
       "date                                                                           \n",
       "2017-10-16                       4                       3                 0   \n",
       "2017-10-16                       4                       4                 0   \n",
       "2017-10-16                       4                       4                 0   \n",
       "2017-10-16                       4                       3                 0   \n",
       "2017-10-16                       4                       2                 0   \n",
       "\n",
       "            y_pred predicted_revenue  \n",
       "date                                  \n",
       "2017-10-16       0              0.00  \n",
       "2017-10-16       0              0.00  \n",
       "2017-10-16       0              0.00  \n",
       "2017-10-16       0              0.00  \n",
       "2017-10-16       0              0.00  \n",
       "\n",
       "[5 rows x 24 columns]"
      ]
     },
     "execution_count": 295,
     "metadata": {},
     "output_type": "execute_result"
    }
   ],
   "source": [
    "data.head()"
   ]
  },
  {
   "cell_type": "code",
   "execution_count": 57,
   "metadata": {},
   "outputs": [],
   "source": [
    "zero_revenue=data.loc[data['y_pred'] == 0]"
   ]
  },
  {
   "cell_type": "code",
   "execution_count": 58,
   "metadata": {},
   "outputs": [],
   "source": [
    "non_zero_revenue=data.loc[data['y_pred'] == 1]"
   ]
  },
  {
   "cell_type": "code",
   "execution_count": 68,
   "metadata": {
    "scrolled": true
   },
   "outputs": [],
   "source": [
    "daily_non_zero_revenue=non_zero_revenue.reset_index().groupby(['date','fullVisitorId'])[['y_pred','totals_transactionRevenue','predicted_revenue']].sum()"
   ]
  },
  {
   "cell_type": "code",
   "execution_count": 69,
   "metadata": {
    "scrolled": true
   },
   "outputs": [],
   "source": [
    "daily_zero_revenue=zero_revenue.reset_index().groupby(['date','fullVisitorId'])[['y_pred','totals_transactionRevenue','predicted_revenue']].sum()"
   ]
  },
  {
   "cell_type": "code",
   "execution_count": 70,
   "metadata": {},
   "outputs": [],
   "source": [
    "daily_revenue = [daily_zero_revenue, daily_non_zero_revenue]\n",
    "\n",
    "result_revenue = pd.concat(daily_revenue)"
   ]
  },
  {
   "cell_type": "markdown",
   "metadata": {},
   "source": [
    "###### Daily Revenue customer wise (Actual vs Predicted)"
   ]
  },
  {
   "cell_type": "code",
   "execution_count": 71,
   "metadata": {
    "scrolled": true
   },
   "outputs": [
    {
     "data": {
      "text/html": [
       "<div>\n",
       "<style scoped>\n",
       "    .dataframe tbody tr th:only-of-type {\n",
       "        vertical-align: middle;\n",
       "    }\n",
       "\n",
       "    .dataframe tbody tr th {\n",
       "        vertical-align: top;\n",
       "    }\n",
       "\n",
       "    .dataframe thead th {\n",
       "        text-align: right;\n",
       "    }\n",
       "</style>\n",
       "<table border=\"1\" class=\"dataframe\">\n",
       "  <thead>\n",
       "    <tr style=\"text-align: right;\">\n",
       "      <th></th>\n",
       "      <th></th>\n",
       "      <th>y_pred</th>\n",
       "      <th>totals_transactionRevenue</th>\n",
       "      <th>predicted_revenue</th>\n",
       "    </tr>\n",
       "    <tr>\n",
       "      <th>date</th>\n",
       "      <th>fullVisitorId</th>\n",
       "      <th></th>\n",
       "      <th></th>\n",
       "      <th></th>\n",
       "    </tr>\n",
       "  </thead>\n",
       "  <tbody>\n",
       "    <tr>\n",
       "      <th rowspan=\"30\" valign=\"top\">2016-09-02</th>\n",
       "      <th>0000245437374675368</th>\n",
       "      <td>0</td>\n",
       "      <td>0.00</td>\n",
       "      <td>0.00</td>\n",
       "    </tr>\n",
       "    <tr>\n",
       "      <th>0004803397127474847</th>\n",
       "      <td>0</td>\n",
       "      <td>0.00</td>\n",
       "      <td>0.00</td>\n",
       "    </tr>\n",
       "    <tr>\n",
       "      <th>0005096736076850458</th>\n",
       "      <td>0</td>\n",
       "      <td>0.00</td>\n",
       "      <td>0.00</td>\n",
       "    </tr>\n",
       "    <tr>\n",
       "      <th>0005694527603480368</th>\n",
       "      <td>0</td>\n",
       "      <td>0.00</td>\n",
       "      <td>0.00</td>\n",
       "    </tr>\n",
       "    <tr>\n",
       "      <th>0006008740756625566</th>\n",
       "      <td>0</td>\n",
       "      <td>0.00</td>\n",
       "      <td>0.00</td>\n",
       "    </tr>\n",
       "    <tr>\n",
       "      <th>0013232932172978597</th>\n",
       "      <td>0</td>\n",
       "      <td>0.00</td>\n",
       "      <td>0.00</td>\n",
       "    </tr>\n",
       "    <tr>\n",
       "      <th>0013251180141982691</th>\n",
       "      <td>0</td>\n",
       "      <td>0.00</td>\n",
       "      <td>0.00</td>\n",
       "    </tr>\n",
       "    <tr>\n",
       "      <th>0015065858137292339</th>\n",
       "      <td>0</td>\n",
       "      <td>0.00</td>\n",
       "      <td>0.00</td>\n",
       "    </tr>\n",
       "    <tr>\n",
       "      <th>0018131669611141208</th>\n",
       "      <td>0</td>\n",
       "      <td>0.00</td>\n",
       "      <td>0.00</td>\n",
       "    </tr>\n",
       "    <tr>\n",
       "      <th>00189307122537490</th>\n",
       "      <td>0</td>\n",
       "      <td>0.00</td>\n",
       "      <td>0.00</td>\n",
       "    </tr>\n",
       "    <tr>\n",
       "      <th>0019595737093157672</th>\n",
       "      <td>0</td>\n",
       "      <td>0.00</td>\n",
       "      <td>0.00</td>\n",
       "    </tr>\n",
       "    <tr>\n",
       "      <th>0023915926406891691</th>\n",
       "      <td>0</td>\n",
       "      <td>0.00</td>\n",
       "      <td>0.00</td>\n",
       "    </tr>\n",
       "    <tr>\n",
       "      <th>0024614448930582896</th>\n",
       "      <td>0</td>\n",
       "      <td>0.00</td>\n",
       "      <td>0.00</td>\n",
       "    </tr>\n",
       "    <tr>\n",
       "      <th>0025489527250127533</th>\n",
       "      <td>0</td>\n",
       "      <td>0.00</td>\n",
       "      <td>0.00</td>\n",
       "    </tr>\n",
       "    <tr>\n",
       "      <th>0026203741366904270</th>\n",
       "      <td>0</td>\n",
       "      <td>0.00</td>\n",
       "      <td>0.00</td>\n",
       "    </tr>\n",
       "    <tr>\n",
       "      <th>0032800017373881379</th>\n",
       "      <td>0</td>\n",
       "      <td>0.00</td>\n",
       "      <td>0.00</td>\n",
       "    </tr>\n",
       "    <tr>\n",
       "      <th>0036373064505192879</th>\n",
       "      <td>0</td>\n",
       "      <td>0.00</td>\n",
       "      <td>0.00</td>\n",
       "    </tr>\n",
       "    <tr>\n",
       "      <th>0042187268246961920</th>\n",
       "      <td>0</td>\n",
       "      <td>0.00</td>\n",
       "      <td>0.00</td>\n",
       "    </tr>\n",
       "    <tr>\n",
       "      <th>0044837250765400461</th>\n",
       "      <td>0</td>\n",
       "      <td>0.00</td>\n",
       "      <td>0.00</td>\n",
       "    </tr>\n",
       "    <tr>\n",
       "      <th>0047340919599668919</th>\n",
       "      <td>0</td>\n",
       "      <td>0.00</td>\n",
       "      <td>0.00</td>\n",
       "    </tr>\n",
       "    <tr>\n",
       "      <th>0049101279449587870</th>\n",
       "      <td>0</td>\n",
       "      <td>0.00</td>\n",
       "      <td>0.00</td>\n",
       "    </tr>\n",
       "    <tr>\n",
       "      <th>0057228682567989873</th>\n",
       "      <td>0</td>\n",
       "      <td>0.00</td>\n",
       "      <td>0.00</td>\n",
       "    </tr>\n",
       "    <tr>\n",
       "      <th>0063191589012692475</th>\n",
       "      <td>0</td>\n",
       "      <td>0.00</td>\n",
       "      <td>0.00</td>\n",
       "    </tr>\n",
       "    <tr>\n",
       "      <th>0064126531968275290</th>\n",
       "      <td>0</td>\n",
       "      <td>0.00</td>\n",
       "      <td>0.00</td>\n",
       "    </tr>\n",
       "    <tr>\n",
       "      <th>0065831017977762658</th>\n",
       "      <td>0</td>\n",
       "      <td>0.00</td>\n",
       "      <td>0.00</td>\n",
       "    </tr>\n",
       "    <tr>\n",
       "      <th>0071296090489144908</th>\n",
       "      <td>0</td>\n",
       "      <td>0.00</td>\n",
       "      <td>0.00</td>\n",
       "    </tr>\n",
       "    <tr>\n",
       "      <th>007550135458178321</th>\n",
       "      <td>0</td>\n",
       "      <td>0.00</td>\n",
       "      <td>0.00</td>\n",
       "    </tr>\n",
       "    <tr>\n",
       "      <th>0078588241654233667</th>\n",
       "      <td>0</td>\n",
       "      <td>0.00</td>\n",
       "      <td>0.00</td>\n",
       "    </tr>\n",
       "    <tr>\n",
       "      <th>0087240106724750745</th>\n",
       "      <td>0</td>\n",
       "      <td>0.00</td>\n",
       "      <td>0.00</td>\n",
       "    </tr>\n",
       "    <tr>\n",
       "      <th>010089030391699708</th>\n",
       "      <td>0</td>\n",
       "      <td>0.00</td>\n",
       "      <td>0.00</td>\n",
       "    </tr>\n",
       "    <tr>\n",
       "      <th>...</th>\n",
       "      <th>...</th>\n",
       "      <td>...</td>\n",
       "      <td>...</td>\n",
       "      <td>...</td>\n",
       "    </tr>\n",
       "    <tr>\n",
       "      <th rowspan=\"17\" valign=\"top\">2017-11-30</th>\n",
       "      <th>2875842843843422362</th>\n",
       "      <td>1</td>\n",
       "      <td>107960000.00</td>\n",
       "      <td>61632352.84</td>\n",
       "    </tr>\n",
       "    <tr>\n",
       "      <th>3287935319409551745</th>\n",
       "      <td>1</td>\n",
       "      <td>83180000.00</td>\n",
       "      <td>52524427.75</td>\n",
       "    </tr>\n",
       "    <tr>\n",
       "      <th>3371421134809281185</th>\n",
       "      <td>1</td>\n",
       "      <td>28930000.00</td>\n",
       "      <td>22413438.57</td>\n",
       "    </tr>\n",
       "    <tr>\n",
       "      <th>3517667571922875880</th>\n",
       "      <td>1</td>\n",
       "      <td>134750000.00</td>\n",
       "      <td>34062091.92</td>\n",
       "    </tr>\n",
       "    <tr>\n",
       "      <th>4261759267361269648</th>\n",
       "      <td>1</td>\n",
       "      <td>46430000.00</td>\n",
       "      <td>24035132.53</td>\n",
       "    </tr>\n",
       "    <tr>\n",
       "      <th>4954404706370546472</th>\n",
       "      <td>1</td>\n",
       "      <td>24980000.00</td>\n",
       "      <td>61632352.84</td>\n",
       "    </tr>\n",
       "    <tr>\n",
       "      <th>4962088874496440474</th>\n",
       "      <td>1</td>\n",
       "      <td>55990000.00</td>\n",
       "      <td>77408345.30</td>\n",
       "    </tr>\n",
       "    <tr>\n",
       "      <th>5693109963199016413</th>\n",
       "      <td>1</td>\n",
       "      <td>207490000.00</td>\n",
       "      <td>34052965.45</td>\n",
       "    </tr>\n",
       "    <tr>\n",
       "      <th>5774144420048753588</th>\n",
       "      <td>1</td>\n",
       "      <td>8490000.00</td>\n",
       "      <td>19764185.45</td>\n",
       "    </tr>\n",
       "    <tr>\n",
       "      <th>5828412432443212029</th>\n",
       "      <td>1</td>\n",
       "      <td>241250000.00</td>\n",
       "      <td>52130511.34</td>\n",
       "    </tr>\n",
       "    <tr>\n",
       "      <th>6739930820441913668</th>\n",
       "      <td>1</td>\n",
       "      <td>13950000.00</td>\n",
       "      <td>18920154.24</td>\n",
       "    </tr>\n",
       "    <tr>\n",
       "      <th>8169242395174514673</th>\n",
       "      <td>1</td>\n",
       "      <td>199870000.00</td>\n",
       "      <td>61632352.84</td>\n",
       "    </tr>\n",
       "    <tr>\n",
       "      <th>849161684199944498</th>\n",
       "      <td>1</td>\n",
       "      <td>50380000.00</td>\n",
       "      <td>52130511.34</td>\n",
       "    </tr>\n",
       "    <tr>\n",
       "      <th>9340341966296957897</th>\n",
       "      <td>1</td>\n",
       "      <td>207950000.00</td>\n",
       "      <td>52130511.34</td>\n",
       "    </tr>\n",
       "    <tr>\n",
       "      <th>943945152769904281</th>\n",
       "      <td>1</td>\n",
       "      <td>83180000.00</td>\n",
       "      <td>62640149.26</td>\n",
       "    </tr>\n",
       "    <tr>\n",
       "      <th>9549089852095378957</th>\n",
       "      <td>1</td>\n",
       "      <td>85430000.00</td>\n",
       "      <td>77429091.36</td>\n",
       "    </tr>\n",
       "    <tr>\n",
       "      <th>9851027407827249742</th>\n",
       "      <td>1</td>\n",
       "      <td>44580000.00</td>\n",
       "      <td>16197083.35</td>\n",
       "    </tr>\n",
       "    <tr>\n",
       "      <th rowspan=\"13\" valign=\"top\">2018-04-15</th>\n",
       "      <th>0534135751322735189</th>\n",
       "      <td>1</td>\n",
       "      <td>30960000.00</td>\n",
       "      <td>18920154.24</td>\n",
       "    </tr>\n",
       "    <tr>\n",
       "      <th>0542979939655528437</th>\n",
       "      <td>1</td>\n",
       "      <td>119990000.00</td>\n",
       "      <td>122088390.89</td>\n",
       "    </tr>\n",
       "    <tr>\n",
       "      <th>099652446932071844</th>\n",
       "      <td>1</td>\n",
       "      <td>87960000.00</td>\n",
       "      <td>77429091.36</td>\n",
       "    </tr>\n",
       "    <tr>\n",
       "      <th>1599643548348828766</th>\n",
       "      <td>1</td>\n",
       "      <td>23960000.00</td>\n",
       "      <td>34062091.92</td>\n",
       "    </tr>\n",
       "    <tr>\n",
       "      <th>1626167154986051036</th>\n",
       "      <td>1</td>\n",
       "      <td>17590000.00</td>\n",
       "      <td>18920154.24</td>\n",
       "    </tr>\n",
       "    <tr>\n",
       "      <th>3102343581929921848</th>\n",
       "      <td>2</td>\n",
       "      <td>43980000.00</td>\n",
       "      <td>58097224.44</td>\n",
       "    </tr>\n",
       "    <tr>\n",
       "      <th>3648111227535332603</th>\n",
       "      <td>1</td>\n",
       "      <td>41980000.00</td>\n",
       "      <td>24035132.53</td>\n",
       "    </tr>\n",
       "    <tr>\n",
       "      <th>4843786684243145195</th>\n",
       "      <td>1</td>\n",
       "      <td>39980000.00</td>\n",
       "      <td>67172392.20</td>\n",
       "    </tr>\n",
       "    <tr>\n",
       "      <th>6923363827219009344</th>\n",
       "      <td>1</td>\n",
       "      <td>87980000.00</td>\n",
       "      <td>34062091.92</td>\n",
       "    </tr>\n",
       "    <tr>\n",
       "      <th>8613294078987378632</th>\n",
       "      <td>1</td>\n",
       "      <td>8970000.00</td>\n",
       "      <td>24035132.53</td>\n",
       "    </tr>\n",
       "    <tr>\n",
       "      <th>8681025856854625526</th>\n",
       "      <td>1</td>\n",
       "      <td>21990000.00</td>\n",
       "      <td>34062091.92</td>\n",
       "    </tr>\n",
       "    <tr>\n",
       "      <th>9171860225687654488</th>\n",
       "      <td>1</td>\n",
       "      <td>40970000.00</td>\n",
       "      <td>62640149.26</td>\n",
       "    </tr>\n",
       "    <tr>\n",
       "      <th>9989175626794898064</th>\n",
       "      <td>1</td>\n",
       "      <td>17590000.00</td>\n",
       "      <td>52524427.75</td>\n",
       "    </tr>\n",
       "  </tbody>\n",
       "</table>\n",
       "<p>18510 rows × 3 columns</p>\n",
       "</div>"
      ],
      "text/plain": [
       "                                y_pred  totals_transactionRevenue  \\\n",
       "date       fullVisitorId                                            \n",
       "2016-09-02 0000245437374675368       0                       0.00   \n",
       "           0004803397127474847       0                       0.00   \n",
       "           0005096736076850458       0                       0.00   \n",
       "           0005694527603480368       0                       0.00   \n",
       "           0006008740756625566       0                       0.00   \n",
       "           0013232932172978597       0                       0.00   \n",
       "           0013251180141982691       0                       0.00   \n",
       "           0015065858137292339       0                       0.00   \n",
       "           0018131669611141208       0                       0.00   \n",
       "           00189307122537490         0                       0.00   \n",
       "           0019595737093157672       0                       0.00   \n",
       "           0023915926406891691       0                       0.00   \n",
       "           0024614448930582896       0                       0.00   \n",
       "           0025489527250127533       0                       0.00   \n",
       "           0026203741366904270       0                       0.00   \n",
       "           0032800017373881379       0                       0.00   \n",
       "           0036373064505192879       0                       0.00   \n",
       "           0042187268246961920       0                       0.00   \n",
       "           0044837250765400461       0                       0.00   \n",
       "           0047340919599668919       0                       0.00   \n",
       "           0049101279449587870       0                       0.00   \n",
       "           0057228682567989873       0                       0.00   \n",
       "           0063191589012692475       0                       0.00   \n",
       "           0064126531968275290       0                       0.00   \n",
       "           0065831017977762658       0                       0.00   \n",
       "           0071296090489144908       0                       0.00   \n",
       "           007550135458178321        0                       0.00   \n",
       "           0078588241654233667       0                       0.00   \n",
       "           0087240106724750745       0                       0.00   \n",
       "           010089030391699708        0                       0.00   \n",
       "...                                ...                        ...   \n",
       "2017-11-30 2875842843843422362       1               107960000.00   \n",
       "           3287935319409551745       1                83180000.00   \n",
       "           3371421134809281185       1                28930000.00   \n",
       "           3517667571922875880       1               134750000.00   \n",
       "           4261759267361269648       1                46430000.00   \n",
       "           4954404706370546472       1                24980000.00   \n",
       "           4962088874496440474       1                55990000.00   \n",
       "           5693109963199016413       1               207490000.00   \n",
       "           5774144420048753588       1                 8490000.00   \n",
       "           5828412432443212029       1               241250000.00   \n",
       "           6739930820441913668       1                13950000.00   \n",
       "           8169242395174514673       1               199870000.00   \n",
       "           849161684199944498        1                50380000.00   \n",
       "           9340341966296957897       1               207950000.00   \n",
       "           943945152769904281        1                83180000.00   \n",
       "           9549089852095378957       1                85430000.00   \n",
       "           9851027407827249742       1                44580000.00   \n",
       "2018-04-15 0534135751322735189       1                30960000.00   \n",
       "           0542979939655528437       1               119990000.00   \n",
       "           099652446932071844        1                87960000.00   \n",
       "           1599643548348828766       1                23960000.00   \n",
       "           1626167154986051036       1                17590000.00   \n",
       "           3102343581929921848       2                43980000.00   \n",
       "           3648111227535332603       1                41980000.00   \n",
       "           4843786684243145195       1                39980000.00   \n",
       "           6923363827219009344       1                87980000.00   \n",
       "           8613294078987378632       1                 8970000.00   \n",
       "           8681025856854625526       1                21990000.00   \n",
       "           9171860225687654488       1                40970000.00   \n",
       "           9989175626794898064       1                17590000.00   \n",
       "\n",
       "                                predicted_revenue  \n",
       "date       fullVisitorId                           \n",
       "2016-09-02 0000245437374675368               0.00  \n",
       "           0004803397127474847               0.00  \n",
       "           0005096736076850458               0.00  \n",
       "           0005694527603480368               0.00  \n",
       "           0006008740756625566               0.00  \n",
       "           0013232932172978597               0.00  \n",
       "           0013251180141982691               0.00  \n",
       "           0015065858137292339               0.00  \n",
       "           0018131669611141208               0.00  \n",
       "           00189307122537490                 0.00  \n",
       "           0019595737093157672               0.00  \n",
       "           0023915926406891691               0.00  \n",
       "           0024614448930582896               0.00  \n",
       "           0025489527250127533               0.00  \n",
       "           0026203741366904270               0.00  \n",
       "           0032800017373881379               0.00  \n",
       "           0036373064505192879               0.00  \n",
       "           0042187268246961920               0.00  \n",
       "           0044837250765400461               0.00  \n",
       "           0047340919599668919               0.00  \n",
       "           0049101279449587870               0.00  \n",
       "           0057228682567989873               0.00  \n",
       "           0063191589012692475               0.00  \n",
       "           0064126531968275290               0.00  \n",
       "           0065831017977762658               0.00  \n",
       "           0071296090489144908               0.00  \n",
       "           007550135458178321                0.00  \n",
       "           0078588241654233667               0.00  \n",
       "           0087240106724750745               0.00  \n",
       "           010089030391699708                0.00  \n",
       "...                                           ...  \n",
       "2017-11-30 2875842843843422362        61632352.84  \n",
       "           3287935319409551745        52524427.75  \n",
       "           3371421134809281185        22413438.57  \n",
       "           3517667571922875880        34062091.92  \n",
       "           4261759267361269648        24035132.53  \n",
       "           4954404706370546472        61632352.84  \n",
       "           4962088874496440474        77408345.30  \n",
       "           5693109963199016413        34052965.45  \n",
       "           5774144420048753588        19764185.45  \n",
       "           5828412432443212029        52130511.34  \n",
       "           6739930820441913668        18920154.24  \n",
       "           8169242395174514673        61632352.84  \n",
       "           849161684199944498         52130511.34  \n",
       "           9340341966296957897        52130511.34  \n",
       "           943945152769904281         62640149.26  \n",
       "           9549089852095378957        77429091.36  \n",
       "           9851027407827249742        16197083.35  \n",
       "2018-04-15 0534135751322735189        18920154.24  \n",
       "           0542979939655528437       122088390.89  \n",
       "           099652446932071844         77429091.36  \n",
       "           1599643548348828766        34062091.92  \n",
       "           1626167154986051036        18920154.24  \n",
       "           3102343581929921848        58097224.44  \n",
       "           3648111227535332603        24035132.53  \n",
       "           4843786684243145195        67172392.20  \n",
       "           6923363827219009344        34062091.92  \n",
       "           8613294078987378632        24035132.53  \n",
       "           8681025856854625526        34062091.92  \n",
       "           9171860225687654488        62640149.26  \n",
       "           9989175626794898064        52524427.75  \n",
       "\n",
       "[18510 rows x 3 columns]"
      ]
     },
     "execution_count": 71,
     "metadata": {},
     "output_type": "execute_result"
    }
   ],
   "source": [
    "result_revenue"
   ]
  },
  {
   "cell_type": "code",
   "execution_count": 63,
   "metadata": {
    "scrolled": true
   },
   "outputs": [],
   "source": [
    "user_wise_zero_revenue=zero_revenue.reset_index().groupby('fullVisitorId')[['y_pred','totals_transactionRevenue','predicted_revenue']].sum()"
   ]
  },
  {
   "cell_type": "code",
   "execution_count": 64,
   "metadata": {
    "scrolled": true
   },
   "outputs": [],
   "source": [
    "user_wise_revenue=non_zero_revenue.reset_index().groupby('fullVisitorId')[['y_pred','totals_transactionRevenue','predicted_revenue']].sum()"
   ]
  },
  {
   "cell_type": "code",
   "execution_count": 65,
   "metadata": {},
   "outputs": [],
   "source": [
    "frames = [user_wise_zero_revenue, user_wise_revenue]\n",
    "\n",
    "result = pd.concat(frames)"
   ]
  },
  {
   "cell_type": "markdown",
   "metadata": {},
   "source": [
    "###### Visitor wise revenue summary"
   ]
  },
  {
   "cell_type": "code",
   "execution_count": 73,
   "metadata": {
    "scrolled": true
   },
   "outputs": [
    {
     "data": {
      "text/html": [
       "<div>\n",
       "<style scoped>\n",
       "    .dataframe tbody tr th:only-of-type {\n",
       "        vertical-align: middle;\n",
       "    }\n",
       "\n",
       "    .dataframe tbody tr th {\n",
       "        vertical-align: top;\n",
       "    }\n",
       "\n",
       "    .dataframe thead th {\n",
       "        text-align: right;\n",
       "    }\n",
       "</style>\n",
       "<table border=\"1\" class=\"dataframe\">\n",
       "  <thead>\n",
       "    <tr style=\"text-align: right;\">\n",
       "      <th></th>\n",
       "      <th>y_pred</th>\n",
       "      <th>totals_transactionRevenue</th>\n",
       "      <th>predicted_revenue</th>\n",
       "    </tr>\n",
       "    <tr>\n",
       "      <th>fullVisitorId</th>\n",
       "      <th></th>\n",
       "      <th></th>\n",
       "      <th></th>\n",
       "    </tr>\n",
       "  </thead>\n",
       "  <tbody>\n",
       "    <tr>\n",
       "      <th>0000245437374675368</th>\n",
       "      <td>0</td>\n",
       "      <td>0.00</td>\n",
       "      <td>0.00</td>\n",
       "    </tr>\n",
       "    <tr>\n",
       "      <th>0000593255797039768</th>\n",
       "      <td>0</td>\n",
       "      <td>0.00</td>\n",
       "      <td>0.00</td>\n",
       "    </tr>\n",
       "    <tr>\n",
       "      <th>0000750929315523353</th>\n",
       "      <td>0</td>\n",
       "      <td>0.00</td>\n",
       "      <td>0.00</td>\n",
       "    </tr>\n",
       "    <tr>\n",
       "      <th>0001191766179392657</th>\n",
       "      <td>0</td>\n",
       "      <td>0.00</td>\n",
       "      <td>0.00</td>\n",
       "    </tr>\n",
       "    <tr>\n",
       "      <th>0003631840334189025</th>\n",
       "      <td>0</td>\n",
       "      <td>0.00</td>\n",
       "      <td>0.00</td>\n",
       "    </tr>\n",
       "    <tr>\n",
       "      <th>0004374401845204055</th>\n",
       "      <td>0</td>\n",
       "      <td>0.00</td>\n",
       "      <td>0.00</td>\n",
       "    </tr>\n",
       "    <tr>\n",
       "      <th>0004803397127474847</th>\n",
       "      <td>0</td>\n",
       "      <td>0.00</td>\n",
       "      <td>0.00</td>\n",
       "    </tr>\n",
       "    <tr>\n",
       "      <th>0005096736076850458</th>\n",
       "      <td>0</td>\n",
       "      <td>0.00</td>\n",
       "      <td>0.00</td>\n",
       "    </tr>\n",
       "    <tr>\n",
       "      <th>0005694527603480368</th>\n",
       "      <td>0</td>\n",
       "      <td>0.00</td>\n",
       "      <td>0.00</td>\n",
       "    </tr>\n",
       "    <tr>\n",
       "      <th>0006008740756625566</th>\n",
       "      <td>0</td>\n",
       "      <td>0.00</td>\n",
       "      <td>0.00</td>\n",
       "    </tr>\n",
       "    <tr>\n",
       "      <th>000696790665307308</th>\n",
       "      <td>0</td>\n",
       "      <td>0.00</td>\n",
       "      <td>0.00</td>\n",
       "    </tr>\n",
       "    <tr>\n",
       "      <th>0007260779429878437</th>\n",
       "      <td>0</td>\n",
       "      <td>0.00</td>\n",
       "      <td>0.00</td>\n",
       "    </tr>\n",
       "    <tr>\n",
       "      <th>0007950316107280774</th>\n",
       "      <td>0</td>\n",
       "      <td>0.00</td>\n",
       "      <td>0.00</td>\n",
       "    </tr>\n",
       "    <tr>\n",
       "      <th>0010083509256769914</th>\n",
       "      <td>0</td>\n",
       "      <td>0.00</td>\n",
       "      <td>0.00</td>\n",
       "    </tr>\n",
       "    <tr>\n",
       "      <th>001029705998137886</th>\n",
       "      <td>0</td>\n",
       "      <td>0.00</td>\n",
       "      <td>0.00</td>\n",
       "    </tr>\n",
       "    <tr>\n",
       "      <th>0010963369995236287</th>\n",
       "      <td>0</td>\n",
       "      <td>0.00</td>\n",
       "      <td>0.00</td>\n",
       "    </tr>\n",
       "    <tr>\n",
       "      <th>001175731479841406</th>\n",
       "      <td>0</td>\n",
       "      <td>0.00</td>\n",
       "      <td>0.00</td>\n",
       "    </tr>\n",
       "    <tr>\n",
       "      <th>0011968309104564603</th>\n",
       "      <td>0</td>\n",
       "      <td>0.00</td>\n",
       "      <td>0.00</td>\n",
       "    </tr>\n",
       "    <tr>\n",
       "      <th>0012276352424581690</th>\n",
       "      <td>0</td>\n",
       "      <td>0.00</td>\n",
       "      <td>0.00</td>\n",
       "    </tr>\n",
       "    <tr>\n",
       "      <th>0012502660755439978</th>\n",
       "      <td>0</td>\n",
       "      <td>0.00</td>\n",
       "      <td>0.00</td>\n",
       "    </tr>\n",
       "    <tr>\n",
       "      <th>0013232932172978597</th>\n",
       "      <td>0</td>\n",
       "      <td>0.00</td>\n",
       "      <td>0.00</td>\n",
       "    </tr>\n",
       "    <tr>\n",
       "      <th>0013251180141982691</th>\n",
       "      <td>0</td>\n",
       "      <td>0.00</td>\n",
       "      <td>0.00</td>\n",
       "    </tr>\n",
       "    <tr>\n",
       "      <th>0015065858137292339</th>\n",
       "      <td>0</td>\n",
       "      <td>0.00</td>\n",
       "      <td>0.00</td>\n",
       "    </tr>\n",
       "    <tr>\n",
       "      <th>0015337730619764512</th>\n",
       "      <td>0</td>\n",
       "      <td>0.00</td>\n",
       "      <td>0.00</td>\n",
       "    </tr>\n",
       "    <tr>\n",
       "      <th>0015760366587722864</th>\n",
       "      <td>0</td>\n",
       "      <td>0.00</td>\n",
       "      <td>0.00</td>\n",
       "    </tr>\n",
       "    <tr>\n",
       "      <th>001610506583269057</th>\n",
       "      <td>0</td>\n",
       "      <td>0.00</td>\n",
       "      <td>0.00</td>\n",
       "    </tr>\n",
       "    <tr>\n",
       "      <th>0017080557459969450</th>\n",
       "      <td>0</td>\n",
       "      <td>0.00</td>\n",
       "      <td>0.00</td>\n",
       "    </tr>\n",
       "    <tr>\n",
       "      <th>0017283111661283752</th>\n",
       "      <td>0</td>\n",
       "      <td>0.00</td>\n",
       "      <td>0.00</td>\n",
       "    </tr>\n",
       "    <tr>\n",
       "      <th>0018131669611141208</th>\n",
       "      <td>0</td>\n",
       "      <td>0.00</td>\n",
       "      <td>0.00</td>\n",
       "    </tr>\n",
       "    <tr>\n",
       "      <th>0018840104218766202</th>\n",
       "      <td>0</td>\n",
       "      <td>0.00</td>\n",
       "      <td>0.00</td>\n",
       "    </tr>\n",
       "    <tr>\n",
       "      <th>...</th>\n",
       "      <td>...</td>\n",
       "      <td>...</td>\n",
       "      <td>...</td>\n",
       "    </tr>\n",
       "    <tr>\n",
       "      <th>8377259727591618279</th>\n",
       "      <td>1</td>\n",
       "      <td>10390000.00</td>\n",
       "      <td>22413438.57</td>\n",
       "    </tr>\n",
       "    <tr>\n",
       "      <th>849161684199944498</th>\n",
       "      <td>1</td>\n",
       "      <td>50380000.00</td>\n",
       "      <td>52130511.34</td>\n",
       "    </tr>\n",
       "    <tr>\n",
       "      <th>8516473451212465925</th>\n",
       "      <td>1</td>\n",
       "      <td>339030000.00</td>\n",
       "      <td>52524427.75</td>\n",
       "    </tr>\n",
       "    <tr>\n",
       "      <th>852373578529854535</th>\n",
       "      <td>1</td>\n",
       "      <td>42940000.00</td>\n",
       "      <td>52524427.75</td>\n",
       "    </tr>\n",
       "    <tr>\n",
       "      <th>8530613607503742741</th>\n",
       "      <td>1</td>\n",
       "      <td>15980000.00</td>\n",
       "      <td>52524427.75</td>\n",
       "    </tr>\n",
       "    <tr>\n",
       "      <th>8585031285178547027</th>\n",
       "      <td>1</td>\n",
       "      <td>5150000.00</td>\n",
       "      <td>52130511.34</td>\n",
       "    </tr>\n",
       "    <tr>\n",
       "      <th>8611515155255472281</th>\n",
       "      <td>1</td>\n",
       "      <td>17590000.00</td>\n",
       "      <td>34052965.45</td>\n",
       "    </tr>\n",
       "    <tr>\n",
       "      <th>8613294078987378632</th>\n",
       "      <td>1</td>\n",
       "      <td>8970000.00</td>\n",
       "      <td>24035132.53</td>\n",
       "    </tr>\n",
       "    <tr>\n",
       "      <th>8657427332734176422</th>\n",
       "      <td>1</td>\n",
       "      <td>111800000.00</td>\n",
       "      <td>52130511.34</td>\n",
       "    </tr>\n",
       "    <tr>\n",
       "      <th>8681025856854625526</th>\n",
       "      <td>1</td>\n",
       "      <td>21990000.00</td>\n",
       "      <td>34062091.92</td>\n",
       "    </tr>\n",
       "    <tr>\n",
       "      <th>8708692061686223002</th>\n",
       "      <td>1</td>\n",
       "      <td>18990000.00</td>\n",
       "      <td>22413438.57</td>\n",
       "    </tr>\n",
       "    <tr>\n",
       "      <th>8769206328217001636</th>\n",
       "      <td>1</td>\n",
       "      <td>16990000.00</td>\n",
       "      <td>34062091.92</td>\n",
       "    </tr>\n",
       "    <tr>\n",
       "      <th>8885051388942907862</th>\n",
       "      <td>1</td>\n",
       "      <td>68030000.00</td>\n",
       "      <td>52130511.34</td>\n",
       "    </tr>\n",
       "    <tr>\n",
       "      <th>8946514554986669717</th>\n",
       "      <td>1</td>\n",
       "      <td>30720000.00</td>\n",
       "      <td>52130511.34</td>\n",
       "    </tr>\n",
       "    <tr>\n",
       "      <th>9013296840842675812</th>\n",
       "      <td>1</td>\n",
       "      <td>66980000.00</td>\n",
       "      <td>34052965.45</td>\n",
       "    </tr>\n",
       "    <tr>\n",
       "      <th>914215065327707355</th>\n",
       "      <td>1</td>\n",
       "      <td>13970000.00</td>\n",
       "      <td>19764185.45</td>\n",
       "    </tr>\n",
       "    <tr>\n",
       "      <th>9171860225687654488</th>\n",
       "      <td>1</td>\n",
       "      <td>40970000.00</td>\n",
       "      <td>62640149.26</td>\n",
       "    </tr>\n",
       "    <tr>\n",
       "      <th>9228091811246318377</th>\n",
       "      <td>1</td>\n",
       "      <td>305490000.00</td>\n",
       "      <td>77408345.30</td>\n",
       "    </tr>\n",
       "    <tr>\n",
       "      <th>9291001063810206156</th>\n",
       "      <td>1</td>\n",
       "      <td>9120000.00</td>\n",
       "      <td>52130511.34</td>\n",
       "    </tr>\n",
       "    <tr>\n",
       "      <th>9340341966296957897</th>\n",
       "      <td>1</td>\n",
       "      <td>207950000.00</td>\n",
       "      <td>52130511.34</td>\n",
       "    </tr>\n",
       "    <tr>\n",
       "      <th>9393064695401243962</th>\n",
       "      <td>1</td>\n",
       "      <td>24990000.00</td>\n",
       "      <td>16197083.35</td>\n",
       "    </tr>\n",
       "    <tr>\n",
       "      <th>9429712068285188439</th>\n",
       "      <td>1</td>\n",
       "      <td>57580000.00</td>\n",
       "      <td>19764185.45</td>\n",
       "    </tr>\n",
       "    <tr>\n",
       "      <th>943945152769904281</th>\n",
       "      <td>1</td>\n",
       "      <td>83180000.00</td>\n",
       "      <td>62640149.26</td>\n",
       "    </tr>\n",
       "    <tr>\n",
       "      <th>9492321535184723478</th>\n",
       "      <td>1</td>\n",
       "      <td>111160000.00</td>\n",
       "      <td>52130511.34</td>\n",
       "    </tr>\n",
       "    <tr>\n",
       "      <th>9549089852095378957</th>\n",
       "      <td>1</td>\n",
       "      <td>85430000.00</td>\n",
       "      <td>77429091.36</td>\n",
       "    </tr>\n",
       "    <tr>\n",
       "      <th>9549826748224805897</th>\n",
       "      <td>1</td>\n",
       "      <td>15190000.00</td>\n",
       "      <td>61632352.84</td>\n",
       "    </tr>\n",
       "    <tr>\n",
       "      <th>9562948220302753056</th>\n",
       "      <td>1</td>\n",
       "      <td>55990000.00</td>\n",
       "      <td>52130511.34</td>\n",
       "    </tr>\n",
       "    <tr>\n",
       "      <th>9851027407827249742</th>\n",
       "      <td>1</td>\n",
       "      <td>44580000.00</td>\n",
       "      <td>16197083.35</td>\n",
       "    </tr>\n",
       "    <tr>\n",
       "      <th>987390821892515431</th>\n",
       "      <td>2</td>\n",
       "      <td>50000000.00</td>\n",
       "      <td>39528370.91</td>\n",
       "    </tr>\n",
       "    <tr>\n",
       "      <th>9989175626794898064</th>\n",
       "      <td>1</td>\n",
       "      <td>17590000.00</td>\n",
       "      <td>52524427.75</td>\n",
       "    </tr>\n",
       "  </tbody>\n",
       "</table>\n",
       "<p>18434 rows × 3 columns</p>\n",
       "</div>"
      ],
      "text/plain": [
       "                     y_pred  totals_transactionRevenue  predicted_revenue\n",
       "fullVisitorId                                                            \n",
       "0000245437374675368       0                       0.00               0.00\n",
       "0000593255797039768       0                       0.00               0.00\n",
       "0000750929315523353       0                       0.00               0.00\n",
       "0001191766179392657       0                       0.00               0.00\n",
       "0003631840334189025       0                       0.00               0.00\n",
       "0004374401845204055       0                       0.00               0.00\n",
       "0004803397127474847       0                       0.00               0.00\n",
       "0005096736076850458       0                       0.00               0.00\n",
       "0005694527603480368       0                       0.00               0.00\n",
       "0006008740756625566       0                       0.00               0.00\n",
       "000696790665307308        0                       0.00               0.00\n",
       "0007260779429878437       0                       0.00               0.00\n",
       "0007950316107280774       0                       0.00               0.00\n",
       "0010083509256769914       0                       0.00               0.00\n",
       "001029705998137886        0                       0.00               0.00\n",
       "0010963369995236287       0                       0.00               0.00\n",
       "001175731479841406        0                       0.00               0.00\n",
       "0011968309104564603       0                       0.00               0.00\n",
       "0012276352424581690       0                       0.00               0.00\n",
       "0012502660755439978       0                       0.00               0.00\n",
       "0013232932172978597       0                       0.00               0.00\n",
       "0013251180141982691       0                       0.00               0.00\n",
       "0015065858137292339       0                       0.00               0.00\n",
       "0015337730619764512       0                       0.00               0.00\n",
       "0015760366587722864       0                       0.00               0.00\n",
       "001610506583269057        0                       0.00               0.00\n",
       "0017080557459969450       0                       0.00               0.00\n",
       "0017283111661283752       0                       0.00               0.00\n",
       "0018131669611141208       0                       0.00               0.00\n",
       "0018840104218766202       0                       0.00               0.00\n",
       "...                     ...                        ...                ...\n",
       "8377259727591618279       1                10390000.00        22413438.57\n",
       "849161684199944498        1                50380000.00        52130511.34\n",
       "8516473451212465925       1               339030000.00        52524427.75\n",
       "852373578529854535        1                42940000.00        52524427.75\n",
       "8530613607503742741       1                15980000.00        52524427.75\n",
       "8585031285178547027       1                 5150000.00        52130511.34\n",
       "8611515155255472281       1                17590000.00        34052965.45\n",
       "8613294078987378632       1                 8970000.00        24035132.53\n",
       "8657427332734176422       1               111800000.00        52130511.34\n",
       "8681025856854625526       1                21990000.00        34062091.92\n",
       "8708692061686223002       1                18990000.00        22413438.57\n",
       "8769206328217001636       1                16990000.00        34062091.92\n",
       "8885051388942907862       1                68030000.00        52130511.34\n",
       "8946514554986669717       1                30720000.00        52130511.34\n",
       "9013296840842675812       1                66980000.00        34052965.45\n",
       "914215065327707355        1                13970000.00        19764185.45\n",
       "9171860225687654488       1                40970000.00        62640149.26\n",
       "9228091811246318377       1               305490000.00        77408345.30\n",
       "9291001063810206156       1                 9120000.00        52130511.34\n",
       "9340341966296957897       1               207950000.00        52130511.34\n",
       "9393064695401243962       1                24990000.00        16197083.35\n",
       "9429712068285188439       1                57580000.00        19764185.45\n",
       "943945152769904281        1                83180000.00        62640149.26\n",
       "9492321535184723478       1               111160000.00        52130511.34\n",
       "9549089852095378957       1                85430000.00        77429091.36\n",
       "9549826748224805897       1                15190000.00        61632352.84\n",
       "9562948220302753056       1                55990000.00        52130511.34\n",
       "9851027407827249742       1                44580000.00        16197083.35\n",
       "987390821892515431        2                50000000.00        39528370.91\n",
       "9989175626794898064       1                17590000.00        52524427.75\n",
       "\n",
       "[18434 rows x 3 columns]"
      ]
     },
     "execution_count": 73,
     "metadata": {},
     "output_type": "execute_result"
    }
   ],
   "source": [
    "result"
   ]
  },
  {
   "cell_type": "markdown",
   "metadata": {},
   "source": [
    "###### Datewise actual vs predicted zero revenue"
   ]
  },
  {
   "cell_type": "code",
   "execution_count": 390,
   "metadata": {
    "scrolled": true
   },
   "outputs": [
    {
     "data": {
      "text/html": [
       "<div>\n",
       "<style scoped>\n",
       "    .dataframe tbody tr th:only-of-type {\n",
       "        vertical-align: middle;\n",
       "    }\n",
       "\n",
       "    .dataframe tbody tr th {\n",
       "        vertical-align: top;\n",
       "    }\n",
       "\n",
       "    .dataframe thead th {\n",
       "        text-align: right;\n",
       "    }\n",
       "</style>\n",
       "<table border=\"1\" class=\"dataframe\">\n",
       "  <thead>\n",
       "    <tr style=\"text-align: right;\">\n",
       "      <th></th>\n",
       "      <th>totals_transactionRevenue</th>\n",
       "      <th>predicted_revenue</th>\n",
       "    </tr>\n",
       "    <tr>\n",
       "      <th>date</th>\n",
       "      <th></th>\n",
       "      <th></th>\n",
       "    </tr>\n",
       "  </thead>\n",
       "  <tbody>\n",
       "    <tr>\n",
       "      <th>2016-09-02</th>\n",
       "      <td>0.00</td>\n",
       "      <td>0.00</td>\n",
       "    </tr>\n",
       "    <tr>\n",
       "      <th>2017-01-26</th>\n",
       "      <td>0.00</td>\n",
       "      <td>0.00</td>\n",
       "    </tr>\n",
       "    <tr>\n",
       "      <th>2017-02-03</th>\n",
       "      <td>0.00</td>\n",
       "      <td>0.00</td>\n",
       "    </tr>\n",
       "    <tr>\n",
       "      <th>2017-03-12</th>\n",
       "      <td>19990000.00</td>\n",
       "      <td>0.00</td>\n",
       "    </tr>\n",
       "    <tr>\n",
       "      <th>2017-06-23</th>\n",
       "      <td>0.00</td>\n",
       "      <td>0.00</td>\n",
       "    </tr>\n",
       "    <tr>\n",
       "      <th>2017-10-16</th>\n",
       "      <td>0.00</td>\n",
       "      <td>0.00</td>\n",
       "    </tr>\n",
       "    <tr>\n",
       "      <th>2017-11-10</th>\n",
       "      <td>227000000.00</td>\n",
       "      <td>0.00</td>\n",
       "    </tr>\n",
       "    <tr>\n",
       "      <th>2017-11-30</th>\n",
       "      <td>105540000.00</td>\n",
       "      <td>0.00</td>\n",
       "    </tr>\n",
       "    <tr>\n",
       "      <th>2018-04-15</th>\n",
       "      <td>0.00</td>\n",
       "      <td>0.00</td>\n",
       "    </tr>\n",
       "  </tbody>\n",
       "</table>\n",
       "</div>"
      ],
      "text/plain": [
       "            totals_transactionRevenue  predicted_revenue\n",
       "date                                                    \n",
       "2016-09-02                       0.00               0.00\n",
       "2017-01-26                       0.00               0.00\n",
       "2017-02-03                       0.00               0.00\n",
       "2017-03-12                19990000.00               0.00\n",
       "2017-06-23                       0.00               0.00\n",
       "2017-10-16                       0.00               0.00\n",
       "2017-11-10               227000000.00               0.00\n",
       "2017-11-30               105540000.00               0.00\n",
       "2018-04-15                       0.00               0.00"
      ]
     },
     "execution_count": 390,
     "metadata": {},
     "output_type": "execute_result"
    }
   ],
   "source": [
    "zero_revenue.reset_index().groupby('date')[['totals_transactionRevenue','predicted_revenue']].sum()"
   ]
  },
  {
   "cell_type": "markdown",
   "metadata": {},
   "source": [
    "###### Datewise Actual vs predicted revenue"
   ]
  },
  {
   "cell_type": "code",
   "execution_count": 303,
   "metadata": {
    "scrolled": true
   },
   "outputs": [
    {
     "data": {
      "text/html": [
       "<div>\n",
       "<style scoped>\n",
       "    .dataframe tbody tr th:only-of-type {\n",
       "        vertical-align: middle;\n",
       "    }\n",
       "\n",
       "    .dataframe tbody tr th {\n",
       "        vertical-align: top;\n",
       "    }\n",
       "\n",
       "    .dataframe thead th {\n",
       "        text-align: right;\n",
       "    }\n",
       "</style>\n",
       "<table border=\"1\" class=\"dataframe\">\n",
       "  <thead>\n",
       "    <tr style=\"text-align: right;\">\n",
       "      <th></th>\n",
       "      <th>totals_transactionRevenue</th>\n",
       "      <th>predicted_revenue</th>\n",
       "    </tr>\n",
       "    <tr>\n",
       "      <th>date</th>\n",
       "      <th></th>\n",
       "      <th></th>\n",
       "    </tr>\n",
       "  </thead>\n",
       "  <tbody>\n",
       "    <tr>\n",
       "      <th>2016-09-02</th>\n",
       "      <td>4322440000.00</td>\n",
       "      <td>1478682937.40</td>\n",
       "    </tr>\n",
       "    <tr>\n",
       "      <th>2017-01-26</th>\n",
       "      <td>3715200000.00</td>\n",
       "      <td>1439259792.41</td>\n",
       "    </tr>\n",
       "    <tr>\n",
       "      <th>2017-02-03</th>\n",
       "      <td>4583980000.00</td>\n",
       "      <td>1290921046.80</td>\n",
       "    </tr>\n",
       "    <tr>\n",
       "      <th>2017-03-12</th>\n",
       "      <td>556300000.00</td>\n",
       "      <td>497842049.86</td>\n",
       "    </tr>\n",
       "    <tr>\n",
       "      <th>2017-06-23</th>\n",
       "      <td>2040210000.00</td>\n",
       "      <td>1194161474.72</td>\n",
       "    </tr>\n",
       "    <tr>\n",
       "      <th>2017-10-16</th>\n",
       "      <td>1655420000.00</td>\n",
       "      <td>1108952146.57</td>\n",
       "    </tr>\n",
       "    <tr>\n",
       "      <th>2017-11-10</th>\n",
       "      <td>1414100000.00</td>\n",
       "      <td>687975323.54</td>\n",
       "    </tr>\n",
       "    <tr>\n",
       "      <th>2017-11-30</th>\n",
       "      <td>1767300000.00</td>\n",
       "      <td>880661826.65</td>\n",
       "    </tr>\n",
       "    <tr>\n",
       "      <th>2018-04-15</th>\n",
       "      <td>583900000.00</td>\n",
       "      <td>628048525.19</td>\n",
       "    </tr>\n",
       "  </tbody>\n",
       "</table>\n",
       "</div>"
      ],
      "text/plain": [
       "            totals_transactionRevenue  predicted_revenue\n",
       "date                                                    \n",
       "2016-09-02              4322440000.00      1478682937.40\n",
       "2017-01-26              3715200000.00      1439259792.41\n",
       "2017-02-03              4583980000.00      1290921046.80\n",
       "2017-03-12               556300000.00       497842049.86\n",
       "2017-06-23              2040210000.00      1194161474.72\n",
       "2017-10-16              1655420000.00      1108952146.57\n",
       "2017-11-10              1414100000.00       687975323.54\n",
       "2017-11-30              1767300000.00       880661826.65\n",
       "2018-04-15               583900000.00       628048525.19"
      ]
     },
     "execution_count": 303,
     "metadata": {},
     "output_type": "execute_result"
    }
   ],
   "source": [
    "non_zero_revenue.reset_index().groupby('date')[['totals_transactionRevenue','predicted_revenue']].sum()"
   ]
  },
  {
   "attachments": {
    "decision_boundary.png": {
     "image/png": "[encoded data removed]"
    }
   },
   "cell_type": "markdown",
   "metadata": {},
   "source": [
    "# Part 2\n",
    "In this part you will create a Python function ``plot_decision_boundary`` that will accepts a machine learning model, feature set ``X``, and target set ``y`` as input and will plot the decision boundary of the input machine learning model  on ``(X,y)``. The following is a sample run of this function: \n",
    "\n",
    "```Python\n",
    "%matplotlib inline\n",
    "# Loading some example data\n",
    "iris = datasets.load_iris()\n",
    "X = iris.data[:, [0, 2]]\n",
    "y = iris.target\n",
    "\n",
    "# Training a classifier\n",
    "svm = SVC(C=0.5, kernel='linear')\n",
    "svm.fit(X, y)\n",
    "\n",
    "# Plotting decision boundary\n",
    "plot_decision_boundary(X, y, clf=svm)\n",
    "\n",
    "# Adding axes annotations\n",
    "plt.xlabel('sepal length [cm]')\n",
    "plt.ylabel('petal length [cm]')\n",
    "plt.title('SVM on Iris')```\n",
    "\n",
    "Sample output: \n",
    "![decision_boundary.png](attachment:decision_boundary.png)"
   ]
  },
  {
   "cell_type": "code",
   "execution_count": 74,
   "metadata": {},
   "outputs": [],
   "source": [
    "from sklearn.linear_model import LogisticRegression\n",
    "from sklearn.svm import SVC\n",
    "import mglearn\n",
    "import matplotlib.pyplot as plt\n",
    "% matplotlib inline"
   ]
  },
  {
   "cell_type": "code",
   "execution_count": 76,
   "metadata": {},
   "outputs": [],
   "source": [
    "import numpy as np\n",
    "import pandas as pd"
   ]
  },
  {
   "cell_type": "code",
   "execution_count": 77,
   "metadata": {},
   "outputs": [],
   "source": [
    "import matplotlib.colors as c"
   ]
  },
  {
   "cell_type": "code",
   "execution_count": 78,
   "metadata": {},
   "outputs": [],
   "source": [
    "import warnings\n",
    "warnings.filterwarnings(\"ignore\")"
   ]
  },
  {
   "cell_type": "code",
   "execution_count": 79,
   "metadata": {},
   "outputs": [],
   "source": [
    "from sklearn import datasets"
   ]
  },
  {
   "cell_type": "code",
   "execution_count": 94,
   "metadata": {},
   "outputs": [],
   "source": [
    "def plot_decision_boundary(X,y,clf):\n",
    "    x_min, x_max = X[:, 0].min() - 1, X[:, 0].max() + 1\n",
    "    y_min, y_max = X[:, 1].min() - 1, X[:, 1].max() + 1\n",
    "    xx, yy = np.meshgrid(np.arange(x_min, x_max, 0.1),\n",
    "                     np.arange(y_min, y_max, 0.1))\n",
    "    fig = plt.subplots(figsize=(12,6))\n",
    "    markers = ('o', 'x', 'd')\n",
    "    colors = ('purple', 'blue', 'green')\n",
    "    cmap = c.ListedColormap(colors[:len(np.unique(y))])  \n",
    "    Z = clf.predict(np.c_[xx.ravel(), yy.ravel()])\n",
    "    Z = Z.reshape(xx.shape)\n",
    "\n",
    "    plt.contourf(xx, yy, Z, alpha=0.4)\n",
    "    for idx, lab in enumerate(np.unique(y)):\n",
    "        plt.scatter(x=X[y == lab, 0], y=X[y == lab, 1], alpha=1.0, c=cmap(idx), marker=markers[idx], label=lab)\n",
    "   \n",
    "    plt.title(\"{}\".format(clf.__class__.__name__))\n",
    "    plt.xlabel(\"Feature 0\")\n",
    "    plt.ylabel(\"Feature 1\")\n",
    "    plt.legend()\n",
    "    pass"
   ]
  },
  {
   "cell_type": "markdown",
   "metadata": {},
   "source": [
    "###### Logistic Regression"
   ]
  },
  {
   "cell_type": "code",
   "execution_count": 97,
   "metadata": {
    "scrolled": true
   },
   "outputs": [
    {
     "data": {
      "image/png": "[encoded data removed]",
      "text/plain": [
       "<Figure size 864x432 with 1 Axes>"
      ]
     },
     "metadata": {},
     "output_type": "display_data"
    }
   ],
   "source": [
    "data=datasets.load_iris()\n",
    "X = data.data[:, [0, 2]]\n",
    "y = data.target\n",
    "clf = LogisticRegression().fit(X, y)\n",
    "plot_decision_boundary(X,y,clf)"
   ]
  },
  {
   "cell_type": "markdown",
   "metadata": {},
   "source": [
    "###### SVM"
   ]
  },
  {
   "cell_type": "code",
   "execution_count": 98,
   "metadata": {},
   "outputs": [
    {
     "data": {
      "image/png": "[encoded data removed]",
      "text/plain": [
       "<Figure size 864x432 with 1 Axes>"
      ]
     },
     "metadata": {},
     "output_type": "display_data"
    }
   ],
   "source": [
    "svm = SVC(C=0.5, kernel='rbf')\n",
    "svm.fit(X, y)\n",
    "plot_decision_boundary(X,y,svm)"
   ]
  }
 ],
 "metadata": {
  "kernelspec": {
   "display_name": "Python 3",
   "language": "python",
   "name": "python3"
  },
  "language_info": {
   "codemirror_mode": {
    "name": "ipython",
    "version": 3
   },
   "file_extension": ".py",
   "mimetype": "text/x-python",
   "name": "python",
   "nbconvert_exporter": "python",
   "pygments_lexer": "ipython3",
   "version": "3.6.5"
  }
 },
 "nbformat": 4,
 "nbformat_minor": 2
}
